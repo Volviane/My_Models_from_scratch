{
 "cells": [
  {
   "cell_type": "markdown",
   "metadata": {},
   "source": [
    "# Features selection : Wrapper method\n",
    "\n",
    "Forward selection"
   ]
  },
  {
   "cell_type": "code",
   "execution_count": 1,
   "metadata": {},
   "outputs": [],
   "source": [
    "import numpy as np\n"
   ]
  },
  {
   "cell_type": "code",
   "execution_count": 2,
   "metadata": {},
   "outputs": [],
   "source": [
    "def forward(data, target):\n",
    "    remaining = data.columns.tolist()\n",
    "    remaining.remove(target)\n",
    "    #remaining=[remaining]\n",
    "    #print(remaining)\n",
    "    selected = []\n",
    "    l=len(remaining)\n",
    "    k=5\n",
    "    while l>k:\n",
    "        eval_feature = []\n",
    "        for candidate in remaining:\n",
    "            #selected.append()\n",
    "            eval_feature.append([candidate])\n",
    "        #print(selected)\n",
    "        best = validation(data,eval_feature,selected,target)\n",
    "        #print(best)\n",
    "        #print(remaining)\n",
    "        \n",
    "        remaining=list(set(remaining)-set(best))\n",
    "        #print(l)\n",
    "        l-=1\n",
    "        #print(remaining)\n",
    "        selected.append(best[0])\n",
    "    print('The best features', selected)\n",
    "        \n",
    "    "
   ]
  },
  {
   "cell_type": "code",
   "execution_count": 3,
   "metadata": {},
   "outputs": [],
   "source": [
    "def validation(data, eval_features, select,target):\n",
    "        '''\n",
    "            This method takes the list of features, return the best feature with his RMSE \n",
    "        '''\n",
    "        data = data[:]\n",
    "        logistic=LogisticRegresion(lr=0.00000001,max_iteration=100)\n",
    "        accuracy=[]\n",
    "        best_feature=[]\n",
    "        split_index=int(len(data)*80/100)\n",
    "        #print(eval_features)\n",
    "        for f in eval_features:\n",
    "            inter = select[:]\n",
    "            inter.append(f[0])\n",
    "            #print(inter)\n",
    "            X=data[inter].values\n",
    "            #print(inter)\n",
    "            y=data[target].values.reshape(-1,1)\n",
    "            #print('shape of y',y.shape)\n",
    "            X_train =X[0:split_index]\n",
    "            X_test=X[split_index:]\n",
    "            #print(X_train.shape)\n",
    "            y_train=y[0:split_index].reshape(-1,1)\n",
    "            y_true=y[split_index:]\n",
    "            y=y.reshape(-1,1)\n",
    "            #print(y_train.shape)\n",
    "            #print(X_test.shape)\n",
    "            logistic.fit_BGD(X_train,y_train)\n",
    "            acc=logistic.error_prediction(X_test,y_true)\n",
    "            accuracy.append(acc)\n",
    "        best_feature = eval_features[np.argmax(accuracy)]\n",
    "        #print(accuracy)    \n",
    "        return best_feature"
   ]
  },
  {
   "cell_type": "markdown",
   "metadata": {},
   "source": [
    "Backward elimination"
   ]
  },
  {
   "cell_type": "code",
   "execution_count": 4,
   "metadata": {},
   "outputs": [],
   "source": [
    "\n",
    "def backward(data,target):\n",
    "        '''\n",
    "            Backward elimination \n",
    "        '''\n",
    "        data = data[:]\n",
    "        remaining = data.columns.tolist()\n",
    "        remaining.remove(target)\n",
    "        logistic=LogisticRegresion(lr=0.00000001,max_iteration=100)\n",
    "        \n",
    "        accuracy=[]\n",
    "        best_feature=[]\n",
    "        split_index=int(len(data)*80/100)\n",
    "        #print(eval_features)\n",
    "        #print(data.shape)\n",
    "        k=4\n",
    "        while len(remaining)>k:\n",
    "            for f in remaining:\n",
    "\n",
    "                X=data[f].values.reshape(-1,1)\n",
    "                #print(inter)\n",
    "                y=data[target].values.reshape(-1,1)\n",
    "                #print('shape of y',y.shape)\n",
    "                X_train =X[0:split_index]\n",
    "                X_test=X[split_index:]\n",
    "                #print(X_train.shape)\n",
    "                y_train=y[0:split_index].reshape(-1,1)\n",
    "                y_true=y[split_index:]\n",
    "                y=y.reshape(-1,1)\n",
    "                #print(y_train.shape)\n",
    "                #print(X_test.shape)\n",
    "                logistic.fit_BGD(X_train,y_train)\n",
    "                acc=logistic.error_prediction(X_test,y_true)\n",
    "                accuracy.append(acc)\n",
    "            excluded_feature = remaining[np.argmin(accuracy)]\n",
    "            remaining.remove(excluded_feature)   \n",
    "        return remaining"
   ]
  },
  {
   "cell_type": "code",
   "execution_count": null,
   "metadata": {},
   "outputs": [],
   "source": []
  }
 ],
 "metadata": {
  "kernelspec": {
   "display_name": "Python 3",
   "language": "python",
   "name": "python3"
  },
  "language_info": {
   "codemirror_mode": {
    "name": "ipython",
    "version": 3
   },
   "file_extension": ".py",
   "mimetype": "text/x-python",
   "name": "python",
   "nbconvert_exporter": "python",
   "pygments_lexer": "ipython3",
   "version": "3.7.3"
  }
 },
 "nbformat": 4,
 "nbformat_minor": 2
}
