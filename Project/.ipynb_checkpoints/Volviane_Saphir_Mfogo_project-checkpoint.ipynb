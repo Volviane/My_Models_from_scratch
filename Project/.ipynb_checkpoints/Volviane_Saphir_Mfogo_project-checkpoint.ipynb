{
 "cells": [
  {
   "cell_type": "code",
   "execution_count": 22,
   "metadata": {},
   "outputs": [],
   "source": [
    "import numpy as np\n",
    "import numpy as np\n",
    "import pandas as pd\n",
    "from sklearn.model_selection import train_test_split\n",
    "from scipy.stats import spearmanr, pearsonr\n",
    "from nltk.corpus import stopwords\n",
    "from wordcloud import WordCloud, STOPWORDS"
   ]
  },
  {
   "cell_type": "code",
   "execution_count": 23,
   "metadata": {},
   "outputs": [],
   "source": [
    "drug_train = pd.read_csv(\"Data/drugLibTrain_raw.tsv\",delimiter='\\t',encoding='utf-8')\n",
    "drug_test = pd.read_csv(\"Data/drugLibTest_raw.tsv\",delimiter='\\t',encoding='utf-8')"
   ]
  },
  {
   "cell_type": "code",
   "execution_count": 24,
   "metadata": {},
   "outputs": [],
   "source": [
    "drug=pd.concat([drug_train,drug_test], axis=0, join='outer', ignore_index=False, keys=None,\n",
    "          levels=None, names=None, verify_integrity=False, copy=True)"
   ]
  },
  {
   "cell_type": "code",
   "execution_count": 25,
   "metadata": {},
   "outputs": [
    {
     "name": "stdout",
     "output_type": "stream",
     "text": [
      "(3107, 9)\n",
      "(1036, 9)\n",
      "(4143, 9)\n"
     ]
    }
   ],
   "source": [
    "print(drug_train.shape)\n",
    "print(drug_test.shape)\n",
    "print(drug.shape)"
   ]
  },
  {
   "cell_type": "code",
   "execution_count": 26,
   "metadata": {},
   "outputs": [
    {
     "data": {
      "text/plain": [
       "10"
      ]
     },
     "execution_count": 26,
     "metadata": {},
     "output_type": "execute_result"
    }
   ],
   "source": [
    "drug['rating'].nunique()"
   ]
  },
  {
   "cell_type": "code",
   "execution_count": 27,
   "metadata": {},
   "outputs": [
    {
     "data": {
      "text/html": [
       "<div>\n",
       "<style scoped>\n",
       "    .dataframe tbody tr th:only-of-type {\n",
       "        vertical-align: middle;\n",
       "    }\n",
       "\n",
       "    .dataframe tbody tr th {\n",
       "        vertical-align: top;\n",
       "    }\n",
       "\n",
       "    .dataframe thead th {\n",
       "        text-align: right;\n",
       "    }\n",
       "</style>\n",
       "<table border=\"1\" class=\"dataframe\">\n",
       "  <thead>\n",
       "    <tr style=\"text-align: right;\">\n",
       "      <th></th>\n",
       "      <th>Unnamed: 0</th>\n",
       "      <th>urlDrugName</th>\n",
       "      <th>rating</th>\n",
       "      <th>effectiveness</th>\n",
       "      <th>sideEffects</th>\n",
       "      <th>condition</th>\n",
       "      <th>benefitsReview</th>\n",
       "      <th>sideEffectsReview</th>\n",
       "      <th>commentsReview</th>\n",
       "    </tr>\n",
       "  </thead>\n",
       "  <tbody>\n",
       "    <tr>\n",
       "      <th>0</th>\n",
       "      <td>2202</td>\n",
       "      <td>enalapril</td>\n",
       "      <td>4</td>\n",
       "      <td>Highly Effective</td>\n",
       "      <td>Mild Side Effects</td>\n",
       "      <td>management of congestive heart failure</td>\n",
       "      <td>slowed the progression of left ventricular dys...</td>\n",
       "      <td>cough, hypotension , proteinuria, impotence , ...</td>\n",
       "      <td>monitor blood pressure , weight and asses for ...</td>\n",
       "    </tr>\n",
       "    <tr>\n",
       "      <th>1</th>\n",
       "      <td>3117</td>\n",
       "      <td>ortho-tri-cyclen</td>\n",
       "      <td>1</td>\n",
       "      <td>Highly Effective</td>\n",
       "      <td>Severe Side Effects</td>\n",
       "      <td>birth prevention</td>\n",
       "      <td>Although this type of birth control has more c...</td>\n",
       "      <td>Heavy Cycle, Cramps, Hot Flashes, Fatigue, Lon...</td>\n",
       "      <td>I Hate This Birth Control, I Would Not Suggest...</td>\n",
       "    </tr>\n",
       "    <tr>\n",
       "      <th>2</th>\n",
       "      <td>1146</td>\n",
       "      <td>ponstel</td>\n",
       "      <td>10</td>\n",
       "      <td>Highly Effective</td>\n",
       "      <td>No Side Effects</td>\n",
       "      <td>menstrual cramps</td>\n",
       "      <td>I was used to having cramps so badly that they...</td>\n",
       "      <td>Heavier bleeding and clotting than normal.</td>\n",
       "      <td>I took 2 pills at the onset of my menstrual cr...</td>\n",
       "    </tr>\n",
       "    <tr>\n",
       "      <th>3</th>\n",
       "      <td>3947</td>\n",
       "      <td>prilosec</td>\n",
       "      <td>3</td>\n",
       "      <td>Marginally Effective</td>\n",
       "      <td>Mild Side Effects</td>\n",
       "      <td>acid reflux</td>\n",
       "      <td>The acid reflux went away for a few months aft...</td>\n",
       "      <td>Constipation, dry mouth and some mild dizzines...</td>\n",
       "      <td>I was given Prilosec prescription at a dose of...</td>\n",
       "    </tr>\n",
       "    <tr>\n",
       "      <th>4</th>\n",
       "      <td>1951</td>\n",
       "      <td>lyrica</td>\n",
       "      <td>2</td>\n",
       "      <td>Marginally Effective</td>\n",
       "      <td>Severe Side Effects</td>\n",
       "      <td>fibromyalgia</td>\n",
       "      <td>I think that the Lyrica was starting to help w...</td>\n",
       "      <td>I felt extremely drugged and dopey.  Could not...</td>\n",
       "      <td>See above</td>\n",
       "    </tr>\n",
       "  </tbody>\n",
       "</table>\n",
       "</div>"
      ],
      "text/plain": [
       "   Unnamed: 0       urlDrugName  rating         effectiveness  \\\n",
       "0        2202         enalapril       4      Highly Effective   \n",
       "1        3117  ortho-tri-cyclen       1      Highly Effective   \n",
       "2        1146           ponstel      10      Highly Effective   \n",
       "3        3947          prilosec       3  Marginally Effective   \n",
       "4        1951            lyrica       2  Marginally Effective   \n",
       "\n",
       "           sideEffects                               condition  \\\n",
       "0    Mild Side Effects  management of congestive heart failure   \n",
       "1  Severe Side Effects                        birth prevention   \n",
       "2      No Side Effects                        menstrual cramps   \n",
       "3    Mild Side Effects                             acid reflux   \n",
       "4  Severe Side Effects                            fibromyalgia   \n",
       "\n",
       "                                      benefitsReview  \\\n",
       "0  slowed the progression of left ventricular dys...   \n",
       "1  Although this type of birth control has more c...   \n",
       "2  I was used to having cramps so badly that they...   \n",
       "3  The acid reflux went away for a few months aft...   \n",
       "4  I think that the Lyrica was starting to help w...   \n",
       "\n",
       "                                   sideEffectsReview  \\\n",
       "0  cough, hypotension , proteinuria, impotence , ...   \n",
       "1  Heavy Cycle, Cramps, Hot Flashes, Fatigue, Lon...   \n",
       "2         Heavier bleeding and clotting than normal.   \n",
       "3  Constipation, dry mouth and some mild dizzines...   \n",
       "4  I felt extremely drugged and dopey.  Could not...   \n",
       "\n",
       "                                      commentsReview  \n",
       "0  monitor blood pressure , weight and asses for ...  \n",
       "1  I Hate This Birth Control, I Would Not Suggest...  \n",
       "2  I took 2 pills at the onset of my menstrual cr...  \n",
       "3  I was given Prilosec prescription at a dose of...  \n",
       "4                                          See above  "
      ]
     },
     "execution_count": 27,
     "metadata": {},
     "output_type": "execute_result"
    }
   ],
   "source": [
    "drug.head()"
   ]
  },
  {
   "cell_type": "code",
   "execution_count": 28,
   "metadata": {},
   "outputs": [
    {
     "data": {
      "text/plain": [
       "Index(['Unnamed: 0', 'urlDrugName', 'rating', 'effectiveness', 'sideEffects',\n",
       "       'condition', 'benefitsReview', 'sideEffectsReview', 'commentsReview'],\n",
       "      dtype='object')"
      ]
     },
     "execution_count": 28,
     "metadata": {},
     "output_type": "execute_result"
    }
   ],
   "source": [
    "drug.columns"
   ]
  },
  {
   "cell_type": "code",
   "execution_count": 29,
   "metadata": {},
   "outputs": [
    {
     "data": {
      "text/plain": [
       "(array(['Mild Side Effects', 'Severe Side Effects', 'No Side Effects',\n",
       "        'Extremely Severe Side Effects', 'Moderate Side Effects'],\n",
       "       dtype=object), 5)"
      ]
     },
     "execution_count": 29,
     "metadata": {},
     "output_type": "execute_result"
    }
   ],
   "source": [
    "drug['sideEffects'].unique(),drug['sideEffects'].nunique()"
   ]
  },
  {
   "cell_type": "code",
   "execution_count": null,
   "metadata": {},
   "outputs": [],
   "source": []
  },
  {
   "cell_type": "markdown",
   "metadata": {},
   "source": [
    "# Gaussian Discriminant Analysis(GDA)"
   ]
  },
  {
   "cell_type": "code",
   "execution_count": 5,
   "metadata": {},
   "outputs": [],
   "source": [
    "class GaussianDiscriminantAnalysis:\n",
    "    def __init__(self,epsilon=10e-10):\n",
    "        self.epsilon=epsilon\n",
    "        \n",
    "    def phi(self, y):\n",
    "        return (np.sum(y==1))/len(y)\n",
    "    \n",
    "    def mu(self,X,y,k):\n",
    "        return (np.sum(X[y==k],axis=0))/np.sum(y==k)\n",
    "    \n",
    "    def mu_0(self,X,y):\n",
    "        return (np.sum(X[y==0],axis=0))/np.sum(y==0)\n",
    "    \n",
    "    def mu_1(self,X,y):\n",
    "        return (np.sum(X[y==1],axis=0))/np.sum(y==1)\n",
    "    \n",
    "    def covariance(self,X,y):\n",
    "        \n",
    "        sigma= np.zeros((len(X),len(X)))\n",
    "        M = np.zeros_like(X)\n",
    "        M[y==1] = self.mu1\n",
    "        M[y==0] = self.mu0\n",
    "        \n",
    "        return (((X-M).T)@(X-M))/len(y)\n",
    "    \n",
    "    def prob_y0(self):\n",
    "        return 1-self.fi\n",
    "    \n",
    "    def prob_y1(self,y):\n",
    "        return self.fi\n",
    "        \n",
    "    def prob_class0(self,X):\n",
    "        half_len = X.shape[1]/2\n",
    "        det_cvar = np.sqrt(np.linalg.det(self.cvar ))\n",
    "        inv_cvar = np.linalg.inv(self.cvar + (self.epsilon*np.eye(len(self.cvar))))\n",
    "        A=((X - self.mu0)@inv_cvar)\n",
    "        #print('dima',A)\n",
    "        B=(X-self.mu0)\n",
    "        #print('dimb',B)\n",
    "        C=np.sum(np.multiply(A,B),axis=1)\n",
    "        #print('dimC',C)\n",
    "        return np.exp( -0.5*C)*(1/((2*np.pi)**half_len)*det_cvar)\n",
    "        \n",
    "    \n",
    "    def prob_class1(self,X):\n",
    "        half_len = X.shape[1]/2\n",
    "        det_cvar = np.sqrt(np.linalg.det(self.cvar ))\n",
    "        inv_cvar = np.linalg.inv(self.cvar + (self.epsilon*np.eye(len(self.cvar))))\n",
    "        AA=((X-self.mu1)@inv_cvar)\n",
    "        BB=(X-self.mu1)\n",
    "        CC=np.sum(np.multiply(AA,BB),axis=1)\n",
    "        return np.exp( -0.5*CC)*(1/((2*np.pi)**half_len)*det_cvar)\n",
    "    \n",
    "    def train(self, X, y):\n",
    "        self.fi = self.phi(y)\n",
    "        self.mu0 = self.mu_0(X,y)\n",
    "        self.mu1 =self.mu_1(X,y)\n",
    "        self.cvar = self.covariance(X, y)\n",
    "        \n",
    "    def predict(self, X):\n",
    "        proby0=1-self.fi\n",
    "        proby1=self.fi\n",
    "        probclass0=self.prob_class0(X)\n",
    "        probclass1=self.prob_class1(X)\n",
    "    \n",
    "        prediction_prob = np.concatenate((probclass0*proby0.reshape(-1,1),\n",
    "                                          probclass1*proby1.reshape(-1,1)))\n",
    "        \n",
    "        return np.argmax(prediction_prob.T,axis=1)"
   ]
  },
  {
   "cell_type": "code",
   "execution_count": 4,
   "metadata": {},
   "outputs": [],
   "source": [
    "GDA = GaussianDiscriminantAnalysis()"
   ]
  },
  {
   "cell_type": "code",
   "execution_count": null,
   "metadata": {},
   "outputs": [],
   "source": []
  },
  {
   "cell_type": "markdown",
   "metadata": {},
   "source": [
    "#  Naive Bayes (NB)"
   ]
  },
  {
   "cell_type": "code",
   "execution_count": 10,
   "metadata": {},
   "outputs": [],
   "source": [
    "class BernoulliNaiveBayes:\n",
    "    \n",
    "    def __init__(self):\n",
    "        pass\n",
    "        \n",
    "        \n",
    "    def phiy(self,y): \n",
    "        return np.sum(y==1)/len(y)\n",
    "    \n",
    "    def phix1y0(self,X,y):\n",
    "        phi_list=[]\n",
    "        for i in range(X.shape[1]):\n",
    "            X_i=X[:,i]\n",
    "            select_y=X_i[y==0]\n",
    "            phi_list.append((np.sum(select_y==1)+1)/(np.sum(y==0)+X.shape[1]))\n",
    "        \n",
    "        return phi_list\n",
    "    \n",
    "    def phix0y0(self,X,y):\n",
    "        \n",
    "        phi_list=[]\n",
    "        for i in range(X.shape[1]):\n",
    "            X_i=X[:,i]\n",
    "            select_y=X_i[y==0]\n",
    "            phi_list.append((np.sum(select_y==0)+1)/(np.sum(y==0)+X.shape[1]))\n",
    "         \n",
    "        return phi_list\n",
    "    \n",
    "    def phix1y1(self,X,y):\n",
    "        \n",
    "        phi_list=[]\n",
    "        for i in range(X.shape[1]):\n",
    "            X_i=X[:,i]\n",
    "            select_y=X_i[y==1]\n",
    "            phi_list.append((np.sum(select_y==1)+1)/(np.sum(y==1)+X.shape[1]))\n",
    "\n",
    "        return phi_list \n",
    "\n",
    "    \n",
    "    def phix0y1(self,X,y):\n",
    "        \n",
    "        phi_list=[]\n",
    "        for i in range(X.shape[1]):\n",
    "            X_i=X[:,i]\n",
    "            select_y=X_i[y==1]\n",
    "            phi_list.append((np.sum(select_y==0)+1)/(np.sum(y==1)+X.shape[1]))\n",
    "\n",
    "\n",
    "        return phi_list\n",
    "\n",
    "    \n",
    "    def probabxy1(self,X):\n",
    "        probxy1=[]\n",
    "        arr1=np.zeros_like(X)\n",
    "        for i in range(X.shape[0]):\n",
    "            X_i=X[i,:]\n",
    "            prob=1\n",
    "            for j in range(len(X_i)):\n",
    "                \n",
    "                if X_i[j]==1:\n",
    "                    prob *=  self.fix1y1[j]\n",
    "                    \n",
    "                else:\n",
    "                    prob *= self.fix0y1[j]\n",
    "                arr1[i,j]=prob\n",
    "            probxy1.append(prob)\n",
    "        return  probxy1\n",
    "    \n",
    "    def probabxy0(self,X):\n",
    "        \n",
    "        probxy0=[]\n",
    "        arr0=np.zeros_like(X)\n",
    "        \n",
    "        for i in range(X.shape[0]):\n",
    "            X_i=X[i,:]\n",
    "            prob=1\n",
    "            for j in range(len(X_i)):\n",
    "                if X_i[j]==1:\n",
    "                    prob *= self.fix1y0[j]\n",
    "                else:\n",
    "                    prob *= self.fix0y0[j]\n",
    "                arr0[i,j]=prob\n",
    "            probxy0.append(prob)\n",
    "        return probxy0\n",
    "    \n",
    "    def fit_train(self, X,y):\n",
    "        self.fiy = self.phiy(y)\n",
    "        self.fix1y0  = self.phix1y0(X,y)\n",
    "        self.fix0y0 = self.phix0y0(X,y)\n",
    "        self.fix1y1  = self.phix1y1(X,y)\n",
    "        self.fix0y1  = self.phix0y1(X,y)\n",
    "        \n",
    "    def predict(self,X) :\n",
    "        proby1 = self.fiy\n",
    "        proby0 = 1 - self.fiy\n",
    "        \n",
    "        probxy0=np.array(self.probabxy0(X)).reshape(-1,1)\n",
    "        probxy1=np.array(self.probabxy1(X)).reshape(-1,1)\n",
    "        proby0x=probxy0*proby0\n",
    "        proby1x=probxy1*proby1\n",
    "    \n",
    "        prediction_prob = np.concatenate((proby0x, proby1x),axis=1)\n",
    "        return np.argmax(prediction_prob,axis=1)"
   ]
  },
  {
   "cell_type": "code",
   "execution_count": 11,
   "metadata": {},
   "outputs": [],
   "source": [
    "NB = BernoulliNaiveBayes()"
   ]
  },
  {
   "cell_type": "code",
   "execution_count": null,
   "metadata": {},
   "outputs": [],
   "source": []
  }
 ],
 "metadata": {
  "kernelspec": {
   "display_name": "Python 3",
   "language": "python",
   "name": "python3"
  },
  "language_info": {
   "codemirror_mode": {
    "name": "ipython",
    "version": 3
   },
   "file_extension": ".py",
   "mimetype": "text/x-python",
   "name": "python",
   "nbconvert_exporter": "python",
   "pygments_lexer": "ipython3",
   "version": "3.7.3"
  }
 },
 "nbformat": 4,
 "nbformat_minor": 2
}
