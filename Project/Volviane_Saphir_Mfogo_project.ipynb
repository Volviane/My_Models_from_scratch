{
 "cells": [
  {
   "cell_type": "code",
   "execution_count": 275,
   "metadata": {},
   "outputs": [],
   "source": [
    "import numpy as np\n",
    "import pandas as pd\n",
    "from sklearn.feature_extraction.text import CountVectorizer\n",
    "from keras.preprocessing.text import Tokenizer\n",
    "\n",
    "from sklearn.model_selection import train_test_split\n",
    "from sklearn.datasets import load_iris"
   ]
  },
  {
   "cell_type": "code",
   "execution_count": 276,
   "metadata": {},
   "outputs": [],
   "source": [
    "# !pip3 install tensorflow"
   ]
  },
  {
   "cell_type": "code",
   "execution_count": 277,
   "metadata": {},
   "outputs": [],
   "source": [
    "# iris = load_iris()\n",
    "# X = iris.data\n",
    "# y = iris.target"
   ]
  },
  {
   "cell_type": "code",
   "execution_count": 278,
   "metadata": {},
   "outputs": [],
   "source": [
    "# X_train, X_test, y_train, y_test = train_test_split(X,y)"
   ]
  },
  {
   "cell_type": "code",
   "execution_count": 279,
   "metadata": {},
   "outputs": [],
   "source": [
    "# iris.keys()"
   ]
  },
  {
   "cell_type": "code",
   "execution_count": 280,
   "metadata": {},
   "outputs": [],
   "source": [
    "drug_train = pd.read_csv(\"Data/drugLibTrain_raw.tsv\",delimiter='\\t',encoding='utf-8')\n",
    "drug_test = pd.read_csv(\"Data/drugLibTest_raw.tsv\",delimiter='\\t',encoding='utf-8')"
   ]
  },
  {
   "cell_type": "code",
   "execution_count": 281,
   "metadata": {},
   "outputs": [
    {
     "name": "stdout",
     "output_type": "stream",
     "text": [
      "(3107, 9)\n",
      "(1036, 9)\n",
      "(3107, 9, 1036, 9)\n"
     ]
    }
   ],
   "source": [
    "print(drug_train.shape)\n",
    "print(drug_test.shape)\n",
    "print(drug_train.shape + drug_test.shape)"
   ]
  },
  {
   "cell_type": "code",
   "execution_count": 282,
   "metadata": {},
   "outputs": [],
   "source": [
    "drug=pd.concat([drug_train,drug_test], axis=0, join='outer', ignore_index=False, keys=None,\n",
    "          levels=None, names=None, verify_integrity=False, copy=True)"
   ]
  },
  {
   "cell_type": "code",
   "execution_count": 283,
   "metadata": {},
   "outputs": [
    {
     "data": {
      "text/html": [
       "<div>\n",
       "<style scoped>\n",
       "    .dataframe tbody tr th:only-of-type {\n",
       "        vertical-align: middle;\n",
       "    }\n",
       "\n",
       "    .dataframe tbody tr th {\n",
       "        vertical-align: top;\n",
       "    }\n",
       "\n",
       "    .dataframe thead th {\n",
       "        text-align: right;\n",
       "    }\n",
       "</style>\n",
       "<table border=\"1\" class=\"dataframe\">\n",
       "  <thead>\n",
       "    <tr style=\"text-align: right;\">\n",
       "      <th></th>\n",
       "      <th>Unnamed: 0</th>\n",
       "      <th>urlDrugName</th>\n",
       "      <th>rating</th>\n",
       "      <th>effectiveness</th>\n",
       "      <th>sideEffects</th>\n",
       "      <th>condition</th>\n",
       "      <th>benefitsReview</th>\n",
       "      <th>sideEffectsReview</th>\n",
       "      <th>commentsReview</th>\n",
       "    </tr>\n",
       "  </thead>\n",
       "  <tbody>\n",
       "    <tr>\n",
       "      <th>0</th>\n",
       "      <td>2202</td>\n",
       "      <td>enalapril</td>\n",
       "      <td>4</td>\n",
       "      <td>Highly Effective</td>\n",
       "      <td>Mild Side Effects</td>\n",
       "      <td>management of congestive heart failure</td>\n",
       "      <td>slowed the progression of left ventricular dys...</td>\n",
       "      <td>cough, hypotension , proteinuria, impotence , ...</td>\n",
       "      <td>monitor blood pressure , weight and asses for ...</td>\n",
       "    </tr>\n",
       "    <tr>\n",
       "      <th>1</th>\n",
       "      <td>3117</td>\n",
       "      <td>ortho-tri-cyclen</td>\n",
       "      <td>1</td>\n",
       "      <td>Highly Effective</td>\n",
       "      <td>Severe Side Effects</td>\n",
       "      <td>birth prevention</td>\n",
       "      <td>Although this type of birth control has more c...</td>\n",
       "      <td>Heavy Cycle, Cramps, Hot Flashes, Fatigue, Lon...</td>\n",
       "      <td>I Hate This Birth Control, I Would Not Suggest...</td>\n",
       "    </tr>\n",
       "    <tr>\n",
       "      <th>2</th>\n",
       "      <td>1146</td>\n",
       "      <td>ponstel</td>\n",
       "      <td>10</td>\n",
       "      <td>Highly Effective</td>\n",
       "      <td>No Side Effects</td>\n",
       "      <td>menstrual cramps</td>\n",
       "      <td>I was used to having cramps so badly that they...</td>\n",
       "      <td>Heavier bleeding and clotting than normal.</td>\n",
       "      <td>I took 2 pills at the onset of my menstrual cr...</td>\n",
       "    </tr>\n",
       "    <tr>\n",
       "      <th>3</th>\n",
       "      <td>3947</td>\n",
       "      <td>prilosec</td>\n",
       "      <td>3</td>\n",
       "      <td>Marginally Effective</td>\n",
       "      <td>Mild Side Effects</td>\n",
       "      <td>acid reflux</td>\n",
       "      <td>The acid reflux went away for a few months aft...</td>\n",
       "      <td>Constipation, dry mouth and some mild dizzines...</td>\n",
       "      <td>I was given Prilosec prescription at a dose of...</td>\n",
       "    </tr>\n",
       "    <tr>\n",
       "      <th>4</th>\n",
       "      <td>1951</td>\n",
       "      <td>lyrica</td>\n",
       "      <td>2</td>\n",
       "      <td>Marginally Effective</td>\n",
       "      <td>Severe Side Effects</td>\n",
       "      <td>fibromyalgia</td>\n",
       "      <td>I think that the Lyrica was starting to help w...</td>\n",
       "      <td>I felt extremely drugged and dopey.  Could not...</td>\n",
       "      <td>See above</td>\n",
       "    </tr>\n",
       "  </tbody>\n",
       "</table>\n",
       "</div>"
      ],
      "text/plain": [
       "   Unnamed: 0       urlDrugName  rating         effectiveness  \\\n",
       "0        2202         enalapril       4      Highly Effective   \n",
       "1        3117  ortho-tri-cyclen       1      Highly Effective   \n",
       "2        1146           ponstel      10      Highly Effective   \n",
       "3        3947          prilosec       3  Marginally Effective   \n",
       "4        1951            lyrica       2  Marginally Effective   \n",
       "\n",
       "           sideEffects                               condition  \\\n",
       "0    Mild Side Effects  management of congestive heart failure   \n",
       "1  Severe Side Effects                        birth prevention   \n",
       "2      No Side Effects                        menstrual cramps   \n",
       "3    Mild Side Effects                             acid reflux   \n",
       "4  Severe Side Effects                            fibromyalgia   \n",
       "\n",
       "                                      benefitsReview  \\\n",
       "0  slowed the progression of left ventricular dys...   \n",
       "1  Although this type of birth control has more c...   \n",
       "2  I was used to having cramps so badly that they...   \n",
       "3  The acid reflux went away for a few months aft...   \n",
       "4  I think that the Lyrica was starting to help w...   \n",
       "\n",
       "                                   sideEffectsReview  \\\n",
       "0  cough, hypotension , proteinuria, impotence , ...   \n",
       "1  Heavy Cycle, Cramps, Hot Flashes, Fatigue, Lon...   \n",
       "2         Heavier bleeding and clotting than normal.   \n",
       "3  Constipation, dry mouth and some mild dizzines...   \n",
       "4  I felt extremely drugged and dopey.  Could not...   \n",
       "\n",
       "                                      commentsReview  \n",
       "0  monitor blood pressure , weight and asses for ...  \n",
       "1  I Hate This Birth Control, I Would Not Suggest...  \n",
       "2  I took 2 pills at the onset of my menstrual cr...  \n",
       "3  I was given Prilosec prescription at a dose of...  \n",
       "4                                          See above  "
      ]
     },
     "execution_count": 283,
     "metadata": {},
     "output_type": "execute_result"
    }
   ],
   "source": [
    "drug.head()"
   ]
  },
  {
   "cell_type": "code",
   "execution_count": 425,
   "metadata": {},
   "outputs": [],
   "source": [
    "drug['Alltext']=drug['benefitsReview']#+' '+drug['benefitsReview']\\\n",
    "#+' ' +drug['commentsReview']+''+drug['sideEffectsReview']"
   ]
  },
  {
   "cell_type": "code",
   "execution_count": 426,
   "metadata": {},
   "outputs": [
    {
     "data": {
      "text/plain": [
       "0    slowed the progression of left ventricular dys...\n",
       "1    Although this type of birth control has more c...\n",
       "2    I was used to having cramps so badly that they...\n",
       "3    The acid reflux went away for a few months aft...\n",
       "4    I think that the Lyrica was starting to help w...\n",
       "Name: Alltext, dtype: object"
      ]
     },
     "execution_count": 426,
     "metadata": {},
     "output_type": "execute_result"
    }
   ],
   "source": [
    "drug['Alltext'][0:5]"
   ]
  },
  {
   "cell_type": "code",
   "execution_count": 427,
   "metadata": {},
   "outputs": [],
   "source": [
    "drug['Alltext'] = drug['Alltext'].apply(lambda x : str(x))"
   ]
  },
  {
   "cell_type": "code",
   "execution_count": 428,
   "metadata": {},
   "outputs": [
    {
     "name": "stdout",
     "output_type": "stream",
     "text": [
      "Found 9115 unique tokens.\n"
     ]
    }
   ],
   "source": [
    "texts_tr = drug.Alltext\n",
    "\n",
    "max_words = 500\n",
    "\n",
    "tokenizer_tr = Tokenizer(num_words=max_words)\n",
    "# tokenizer_tr = Tokenizer()\n",
    "tokenizer_tr.fit_on_texts(texts_tr)\n",
    "# data_tr = tokenizer_tr.texts_to_sequences(texts_tr)\n",
    "X = tokenizer_tr.texts_to_matrix(texts_tr, mode='binary')\n",
    "\n",
    "word_index = tokenizer_tr.word_index\n",
    "print('Found %s unique tokens.' % len(set(word_index))) #88582"
   ]
  },
  {
   "cell_type": "code",
   "execution_count": 429,
   "metadata": {},
   "outputs": [],
   "source": [
    "y=drug['rating'].values"
   ]
  },
  {
   "cell_type": "code",
   "execution_count": 430,
   "metadata": {},
   "outputs": [],
   "source": [
    "X_train, X_test, y_train, y_test = train_test_split(X,y,test_size=0.2, random_state=2)"
   ]
  },
  {
   "cell_type": "code",
   "execution_count": 431,
   "metadata": {},
   "outputs": [],
   "source": [
    "# print(drug_train.shape)\n",
    "# print(drug_test.shape)\n",
    "# print(drug.shape)"
   ]
  },
  {
   "cell_type": "code",
   "execution_count": 432,
   "metadata": {},
   "outputs": [],
   "source": [
    "#drug['rating'].nunique()"
   ]
  },
  {
   "cell_type": "code",
   "execution_count": 433,
   "metadata": {},
   "outputs": [],
   "source": [
    "#drug.head()"
   ]
  },
  {
   "cell_type": "code",
   "execution_count": 434,
   "metadata": {},
   "outputs": [],
   "source": [
    "#drug.columns"
   ]
  },
  {
   "cell_type": "code",
   "execution_count": 435,
   "metadata": {},
   "outputs": [],
   "source": [
    "#drug['sideEffects'].unique(),drug['sideEffects'].nunique()"
   ]
  },
  {
   "cell_type": "code",
   "execution_count": null,
   "metadata": {},
   "outputs": [],
   "source": []
  },
  {
   "cell_type": "markdown",
   "metadata": {},
   "source": [
    "# Gaussian Discriminant Analysis(GDA)"
   ]
  },
  {
   "cell_type": "code",
   "execution_count": 436,
   "metadata": {},
   "outputs": [],
   "source": [
    "class GaussianDiscriminantAnalysis:\n",
    "    def __init__(self,epsilon=10e-10):\n",
    "        self.epsilon=epsilon\n",
    "        \n",
    "    def ph(self,y):\n",
    "        phi=[]\n",
    "        for k in self.classes:#range(self.nb_class):\n",
    "            phi.append((np.sum(y==k))/len(y))\n",
    "        return phi   \n",
    "    \n",
    "    def phi(self, y):\n",
    "        return (np.sum(y==1))/len(y)\n",
    "    \n",
    "    def mu_computed(self,X,y):\n",
    "        list_of_mu=[]\n",
    "        for k in self.classes: #range(self.nb_class):\n",
    "            list_of_mu.append((np.sum(X[y==k],axis=0))/np.sum(y==k))\n",
    "            \n",
    "        return list_of_mu\n",
    "    \n",
    "    def covariance(self,X,y):\n",
    "        sigma= np.zeros((len(X),len(X)))\n",
    "        M = np.zeros_like(X)\n",
    "        for i in range(1,self.nb_class):\n",
    "            M[y== i]=self.list_mu[i]\n",
    "        return (((X-M).T)@(X-M))/len(y)\n",
    "    \n",
    "    def prob_class(self,X):\n",
    "        half_len = X.shape[1]/2\n",
    "        det_cvar = np.sqrt(np.linalg.det(self.cvar ))\n",
    "        inv_cvar = np.linalg.inv(self.cvar + (self.epsilon*np.eye(len(self.cvar))))\n",
    "        list_prob=[]\n",
    "        for i in self.classes:#range(self.nb_class):\n",
    "            A=((X - self.list_mu[i])@inv_cvar)\n",
    "            #print('dima',A)\n",
    "            B=(X-self.list_mu[i])\n",
    "            #print('dimb',B)\n",
    "            C=np.sum(np.multiply(A,B),axis=1)\n",
    "            list_prob.append(np.exp( -0.5*C)*(1/((2*np.pi)**half_len)*det_cvar))\n",
    "        return list_prob\n",
    "    \n",
    "    def train(self, X, y):\n",
    "        self.nb_class = len(np.unique(y))\n",
    "        self.classes = np.unique(y)\n",
    "        self.fi = self.ph(y)\n",
    "        self.list_mu = self.mu_computed(X,y)\n",
    "        self.cvar = self.covariance(X, y)\n",
    "        \n",
    "    def predict(self, X):        \n",
    "        proby=self.fi\n",
    "        list_probclass= self.prob_class(X)\n",
    "        predict_prob=[]\n",
    "        for i in self.classes:#range(self.nb_class):\n",
    "            \n",
    "            predict_prob.append(list_probclass[i]*proby[i])\n",
    "        \n",
    "   \n",
    "        return np.argmax(np.array(predict_prob).T,axis=1) "
   ]
  },
  {
   "cell_type": "code",
   "execution_count": 437,
   "metadata": {},
   "outputs": [],
   "source": [
    "#GDA = GaussianDiscriminantAnalysis()"
   ]
  },
  {
   "cell_type": "code",
   "execution_count": 438,
   "metadata": {},
   "outputs": [],
   "source": [
    "#GDA.train(X_train,y_train)"
   ]
  },
  {
   "cell_type": "code",
   "execution_count": 439,
   "metadata": {},
   "outputs": [],
   "source": [
    "#X_test.shape"
   ]
  },
  {
   "cell_type": "code",
   "execution_count": 440,
   "metadata": {},
   "outputs": [],
   "source": [
    "#prediction=GDA.predict(X_test)"
   ]
  },
  {
   "cell_type": "code",
   "execution_count": 441,
   "metadata": {},
   "outputs": [],
   "source": [
    "#np.sum(prediction == y_test) / len(y_test)*100"
   ]
  },
  {
   "cell_type": "code",
   "execution_count": 442,
   "metadata": {},
   "outputs": [],
   "source": [
    "# np .random.seed(0)\n",
    "\n",
    "# data = np.random.rand(200, 4)\n",
    "# data = np.round(data, decimals=0)\n",
    "# target = np.random.randint(0, 3, size=(200, 1))\n",
    "# data=np.concatenate((data,target),axis=1)\n",
    "# X_train = data[:150, :-1]\n",
    "# y_train = data[:150, -1]\n",
    "# X_test = data[150:, :-1]\n",
    "# y_test = data[150:, -1]"
   ]
  },
  {
   "cell_type": "code",
   "execution_count": 443,
   "metadata": {},
   "outputs": [],
   "source": [
    "#y_train"
   ]
  },
  {
   "cell_type": "code",
   "execution_count": 444,
   "metadata": {},
   "outputs": [
    {
     "data": {
      "text/plain": [
       "(100,)"
      ]
     },
     "execution_count": 444,
     "metadata": {},
     "output_type": "execute_result"
    }
   ],
   "source": [
    "data[:100,-1].shape"
   ]
  },
  {
   "cell_type": "code",
   "execution_count": 445,
   "metadata": {},
   "outputs": [
    {
     "data": {
      "text/plain": [
       "(100, 100)"
      ]
     },
     "execution_count": 445,
     "metadata": {},
     "output_type": "execute_result"
    }
   ],
   "source": [
    "2*np.ones(100).shape"
   ]
  },
  {
   "cell_type": "code",
   "execution_count": 446,
   "metadata": {},
   "outputs": [],
   "source": [
    "#np.random.((200,1))"
   ]
  },
  {
   "cell_type": "code",
   "execution_count": 447,
   "metadata": {},
   "outputs": [
    {
     "data": {
      "text/plain": [
       "array([ 3,  1,  8, ...,  5,  8, 10])"
      ]
     },
     "execution_count": 447,
     "metadata": {},
     "output_type": "execute_result"
    }
   ],
   "source": [
    "y_train"
   ]
  },
  {
   "cell_type": "markdown",
   "metadata": {},
   "source": [
    "#  Naive Bayes (NB)"
   ]
  },
  {
   "cell_type": "code",
   "execution_count": 448,
   "metadata": {},
   "outputs": [],
   "source": [
    "# text = drug[['commentsReview','benefitsReview','sideEffectsReview']].apply(lambda x: \n",
    "#                                                     ' '.join(str(s) for s in x), axis=1)\n",
    "# c=CountVectorizer(max_features=5,binary=True)\n",
    "# j = c.fit_transform(text)\n",
    "# X = j.toarray()\n",
    "# y=drug['rating']\n",
    "# X_train, X_test, y_train, y_test = train_test_split(X,y)"
   ]
  },
  {
   "cell_type": "code",
   "execution_count": 449,
   "metadata": {},
   "outputs": [],
   "source": [
    "import ipdb #ipython debogeur"
   ]
  },
  {
   "cell_type": "code",
   "execution_count": 450,
   "metadata": {},
   "outputs": [],
   "source": [
    "class BernoulliNaiveBayes:\n",
    "    \n",
    "    def __init__(self):\n",
    "        pass\n",
    "        \n",
    "        \n",
    "    def phiy(self,y): \n",
    "        phi=[]\n",
    "        for k in self.classes:\n",
    "            phi.append(np.sum(y==k)/len(y))\n",
    "        return phi\n",
    "    \n",
    "    \n",
    "    def phix1y(self,X,y):\n",
    "        phi_list=[]\n",
    "        for k in self.classes:\n",
    "            phix=[]\n",
    "            for i in range(X.shape[1]):\n",
    "                X_i=X[:,i]\n",
    "                select_y=X_i[y==k]\n",
    "                phix.append((np.sum(select_y==1)+1)/(np.sum(y==k)+self.nb_class))\n",
    "            phi_list.append(phix)\n",
    "        return phi_list\n",
    "    \n",
    "    def phix0y(self,X,y):\n",
    "        phi_list=[]\n",
    "        for k in self.classes:\n",
    "            phix=[]\n",
    "            for i in range(X.shape[1]):\n",
    "                X_i=X[:,i]\n",
    "                select_y=X_i[y==k]\n",
    "                phix.append((np.sum(select_y==0)+1)/(np.sum(y==k)+self.nb_class))\n",
    "            phi_list.append(phix)\n",
    "        return phi_list\n",
    "    \n",
    "    def probabxy(self,X):\n",
    "        \n",
    "        probxyk=[]\n",
    "        arr1=np.zeros_like(X)\n",
    "#         ipdb.set_trace()\n",
    "        for k in range(self.nb_class):\n",
    "            probxy1=[]\n",
    "            for i in range(X.shape[0]):\n",
    "                X_i=X[i,:]\n",
    "                prob=1\n",
    "                for j in range(len(X_i)):\n",
    "\n",
    "                    if X_i[j]==1:\n",
    "                        prob *=  self.fix1y[int(k)][j]\n",
    "                    else:\n",
    "                        \n",
    "                        prob *= self.fix0y[int(k)][j]\n",
    "                    arr1[i,j]=prob\n",
    "                probxy1.append(prob)\n",
    "            #print(np.array(probxy1).shape)\n",
    "            probxyk.append(probxy1)\n",
    "        return  probxyk \n",
    "\n",
    "    def fit_train(self, X,y):\n",
    "        self.nb_class = len(np.unique(y))\n",
    "        self.classes = np.unique(y)\n",
    "        self.fiy = self.phiy(y)\n",
    "        self.fix1y = np.array(self.phix1y(X,y))\n",
    "        self.fix0y = np.array(self.phix0y(X,y))\n",
    "        #print(self.fix1y)\n",
    "        #print(self.fix0y[0:10])\n",
    "        \n",
    "    def predict(self,X) :\n",
    "        proby=self.fiy\n",
    "        list_probclass= self.probabxy(X)\n",
    "        \n",
    "        predict_prob=[]\n",
    "        predict_prob=np.array(list_probclass).T*proby\n",
    "        if 0 in self.classes:\n",
    "            return  np.argmax(predict_prob,axis=1)\n",
    "        else:\n",
    "            return  np.argmax(predict_prob,axis=1)+1         \n",
    "        \n",
    "        \n",
    "        #return  np.argmax(predict_prob,axis=1)"
   ]
  },
  {
   "cell_type": "code",
   "execution_count": 451,
   "metadata": {},
   "outputs": [],
   "source": [
    "\n",
    "NB = BernoulliNaiveBayes()\n",
    "NB.fit_train(X_train,y_train)"
   ]
  },
  {
   "cell_type": "code",
   "execution_count": 452,
   "metadata": {},
   "outputs": [],
   "source": [
    "prediction=NB.predict(X_test)"
   ]
  },
  {
   "cell_type": "code",
   "execution_count": 453,
   "metadata": {},
   "outputs": [
    {
     "data": {
      "text/plain": [
       "0.2629674306393245"
      ]
     },
     "execution_count": 453,
     "metadata": {},
     "output_type": "execute_result"
    }
   ],
   "source": [
    "\n",
    "np.sum(prediction==y_test)/len(y_test)"
   ]
  },
  {
   "cell_type": "code",
   "execution_count": 454,
   "metadata": {},
   "outputs": [],
   "source": [
    "from sklearn.naive_bayes import MultinomialNB\n",
    "from sklearn.model_selection import train_test_split"
   ]
  },
  {
   "cell_type": "code",
   "execution_count": 455,
   "metadata": {},
   "outputs": [
    {
     "data": {
      "text/plain": [
       "MultinomialNB(alpha=1.0, class_prior=None, fit_prior=True)"
      ]
     },
     "execution_count": 455,
     "metadata": {},
     "output_type": "execute_result"
    }
   ],
   "source": [
    "clf = MultinomialNB()\n",
    "\n",
    "#X_train, X_test, y_train, y_test = train_test_split(X, y, test_size=0.2, random_state=42)\n",
    "\n",
    "clf.fit(X_train, y_train)"
   ]
  },
  {
   "cell_type": "code",
   "execution_count": 456,
   "metadata": {},
   "outputs": [],
   "source": [
    "prediction=clf.predict(X_test)"
   ]
  },
  {
   "cell_type": "code",
   "execution_count": 457,
   "metadata": {},
   "outputs": [
    {
     "data": {
      "text/plain": [
       "0.24728588661037396"
      ]
     },
     "execution_count": 457,
     "metadata": {},
     "output_type": "execute_result"
    }
   ],
   "source": [
    "\n",
    "np.sum(prediction==y_test)/len(y_test)"
   ]
  },
  {
   "cell_type": "code",
   "execution_count": 53,
   "metadata": {},
   "outputs": [
    {
     "data": {
      "text/plain": [
       "array([0., 0., 0., 1., 0., 0., 0., 1., 1., 0., 0., 0., 0., 0., 1., 0., 1.,\n",
       "       1., 0., 0., 0., 1., 1., 1., 0., 0., 1., 0., 1., 1., 0., 0., 1., 0.,\n",
       "       1., 0., 1., 0., 1., 0., 0., 1., 0., 1., 0., 1., 0., 1., 1., 0., 1.,\n",
       "       0., 1., 0., 0., 1., 0., 1., 1., 1., 0., 0., 1., 1., 0., 0., 1., 0.,\n",
       "       1., 1., 1., 1., 1., 1., 0., 1., 1., 0., 0., 0., 1., 0., 0., 1., 1.,\n",
       "       0., 1., 0., 0., 1., 1., 1., 0., 0., 1., 0., 0., 1., 1., 1., 0., 0.,\n",
       "       1., 1., 0., 0., 0., 1., 1., 0., 1., 1., 1., 1., 1., 1., 1., 1., 0.,\n",
       "       1., 1., 0., 0., 1., 1., 0., 1., 1., 0., 0., 1., 1., 0., 1., 1., 0.,\n",
       "       0., 0., 1., 1., 0., 1., 0., 1., 0., 0., 0., 0., 1., 1.])"
      ]
     },
     "execution_count": 53,
     "metadata": {},
     "output_type": "execute_result"
    }
   ],
   "source": []
  },
  {
   "cell_type": "code",
   "execution_count": 69,
   "metadata": {},
   "outputs": [],
   "source": [
    "#NB.fit_train(X_train,y_train)"
   ]
  },
  {
   "cell_type": "code",
   "execution_count": 70,
   "metadata": {},
   "outputs": [],
   "source": [
    "#prediction=NB.predict(X_test)"
   ]
  },
  {
   "cell_type": "code",
   "execution_count": 71,
   "metadata": {},
   "outputs": [],
   "source": [
    "#prediction"
   ]
  },
  {
   "cell_type": "code",
   "execution_count": 72,
   "metadata": {},
   "outputs": [],
   "source": [
    "#y_test"
   ]
  },
  {
   "cell_type": "code",
   "execution_count": 73,
   "metadata": {},
   "outputs": [],
   "source": [
    "#np.sum(prediction==y_test)/len(y_test)*100"
   ]
  },
  {
   "cell_type": "code",
   "execution_count": null,
   "metadata": {},
   "outputs": [],
   "source": []
  },
  {
   "cell_type": "code",
   "execution_count": null,
   "metadata": {},
   "outputs": [],
   "source": []
  }
 ],
 "metadata": {
  "kernelspec": {
   "display_name": "Python 3",
   "language": "python",
   "name": "python3"
  },
  "language_info": {
   "codemirror_mode": {
    "name": "ipython",
    "version": 3
   },
   "file_extension": ".py",
   "mimetype": "text/x-python",
   "name": "python",
   "nbconvert_exporter": "python",
   "pygments_lexer": "ipython3",
   "version": "3.7.3"
  }
 },
 "nbformat": 4,
 "nbformat_minor": 2
}
