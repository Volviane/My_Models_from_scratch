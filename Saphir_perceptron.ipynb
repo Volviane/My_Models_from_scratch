{
 "cells": [
  {
   "cell_type": "code",
   "execution_count": 219,
   "metadata": {},
   "outputs": [],
   "source": [
    "#Import the needeed package\n",
    "import numpy as np\n",
    "import random as rd\n",
    "import seaborn as sns\n",
    "import pandas as pd\n",
    "%matplotlib inline\n",
    "import matplotlib.pyplot as plt"
   ]
  },
  {
   "cell_type": "code",
   "execution_count": 220,
   "metadata": {},
   "outputs": [],
   "source": [
    "#Generating data"
   ]
  },
  {
   "cell_type": "code",
   "execution_count": 221,
   "metadata": {},
   "outputs": [],
   "source": [
    "mu1 = -1\n",
    "mu2 = 3\n",
    "sig1 = 0.5\n",
    "sig2 = 1\n",
    "N = 100\n",
    "np.random.seed(10)\n",
    "x11=np.random.randn(N,1)*sig1 + mu1\n",
    "x12=np.random.randn(N,1)*sig1 + mu1+3\n",
    "x21=np.random.randn(N,1)*sig2 + mu2\n",
    "x22=np.random.randn(N,1)*sig2 + mu2+3\n",
    "c = np.vstack((-np.ones((N,1)), np.ones((N,1))))\n",
    "x1 = np.hstack((x11,x12))\n",
    "x2 = np.hstack((x21,x22))\n",
    "\n",
    "X = np.hstack( (np.vstack( (x1,x2) ),c) )\n",
    "np.random.shuffle(X)\n",
    "dataset = pd.DataFrame(data=X, columns=['x','y','c'])"
   ]
  },
  {
   "cell_type": "code",
   "execution_count": 222,
   "metadata": {},
   "outputs": [],
   "source": [
    "#visualization"
   ]
  },
  {
   "cell_type": "code",
   "execution_count": 223,
   "metadata": {},
   "outputs": [
    {
     "data": {
      "text/html": [
       "<div>\n",
       "<style scoped>\n",
       "    .dataframe tbody tr th:only-of-type {\n",
       "        vertical-align: middle;\n",
       "    }\n",
       "\n",
       "    .dataframe tbody tr th {\n",
       "        vertical-align: top;\n",
       "    }\n",
       "\n",
       "    .dataframe thead th {\n",
       "        text-align: right;\n",
       "    }\n",
       "</style>\n",
       "<table border=\"1\" class=\"dataframe\">\n",
       "  <thead>\n",
       "    <tr style=\"text-align: right;\">\n",
       "      <th></th>\n",
       "      <th>x</th>\n",
       "      <th>y</th>\n",
       "      <th>c</th>\n",
       "    </tr>\n",
       "  </thead>\n",
       "  <tbody>\n",
       "    <tr>\n",
       "      <th>0</th>\n",
       "      <td>-0.334207</td>\n",
       "      <td>2.058738</td>\n",
       "      <td>-1.0</td>\n",
       "    </tr>\n",
       "    <tr>\n",
       "      <th>1</th>\n",
       "      <td>3.264395</td>\n",
       "      <td>5.636814</td>\n",
       "      <td>1.0</td>\n",
       "    </tr>\n",
       "    <tr>\n",
       "      <th>2</th>\n",
       "      <td>-0.669884</td>\n",
       "      <td>1.856185</td>\n",
       "      <td>-1.0</td>\n",
       "    </tr>\n",
       "    <tr>\n",
       "      <th>3</th>\n",
       "      <td>1.995284</td>\n",
       "      <td>4.484924</td>\n",
       "      <td>1.0</td>\n",
       "    </tr>\n",
       "    <tr>\n",
       "      <th>4</th>\n",
       "      <td>3.588041</td>\n",
       "      <td>4.739172</td>\n",
       "      <td>1.0</td>\n",
       "    </tr>\n",
       "  </tbody>\n",
       "</table>\n",
       "</div>"
      ],
      "text/plain": [
       "          x         y    c\n",
       "0 -0.334207  2.058738 -1.0\n",
       "1  3.264395  5.636814  1.0\n",
       "2 -0.669884  1.856185 -1.0\n",
       "3  1.995284  4.484924  1.0\n",
       "4  3.588041  4.739172  1.0"
      ]
     },
     "execution_count": 223,
     "metadata": {},
     "output_type": "execute_result"
    }
   ],
   "source": [
    "dataset.head()"
   ]
  },
  {
   "cell_type": "code",
   "execution_count": 224,
   "metadata": {},
   "outputs": [
    {
     "data": {
      "text/plain": [
       "<matplotlib.axes._subplots.AxesSubplot at 0x7f902ee2b898>"
      ]
     },
     "execution_count": 224,
     "metadata": {},
     "output_type": "execute_result"
    },
    {
     "data": {
      "image/png": "[encoded data removed]",
      "text/plain": [
       "<Figure size 432x288 with 1 Axes>"
      ]
     },
     "metadata": {
      "needs_background": "light"
     },
     "output_type": "display_data"
    }
   ],
   "source": [
    "sns.scatterplot(x=\"x\",y=\"y\",hue=\"c\",data=dataset)"
   ]
  },
  {
   "cell_type": "code",
   "execution_count": 225,
   "metadata": {},
   "outputs": [],
   "source": [
    "lr = 0.001   # we initialize the learning rate\n",
    "\n",
    "# we compute the gradient\n",
    "def gradient(y,x):\n",
    "    return -1*np.matmul(y.T,x)\n",
    "\n",
    "#the predict function look at the sign of the w0 +w1*x+ w2*y and the predict if the point is above or ubder the line\n",
    "def predict(inpu):\n",
    "    \n",
    "    pred = np.zeros(inpu.shape)\n",
    "    \n",
    "    pred[(inpu>0)== True]=1\n",
    "    pred[(inpu>0)== False]=-1\n",
    "    \n",
    "    return pred\n",
    "\n",
    "\n",
    "def fit_perceptron(train_X,train_y):\n",
    "    \n",
    "    nb_observ = train_X.shape[0]\n",
    "    nb_feature = train_X.shape[1]\n",
    "    \n",
    "    #inialize the weight\n",
    "    weight = np.zeros((nb_feature+1,1))\n",
    "    \n",
    "    #associate to the feature vector 1 which is the elt correspondant to intercept\n",
    "    train_X = np.hstack((np.ones((nb_observ,1)),train_X))\n",
    "    \n",
    "    #for a giving data set we predict whether we are above or under the line\n",
    "    predict_label = predict(np.matmul(train_X,weight))\n",
    "        \n",
    "    m_y = (predict_label.flatten()*train_y.flatten())==-1  \n",
    "    train= train_y[m_y]\n",
    "        \n",
    "    while np.sum(m_y)>0:\n",
    "        \n",
    "        #compute the gradient\n",
    "        grad = gradient(train,train_X[m_y]).reshape(-1,1)\n",
    "        \n",
    "        #we update the weight\n",
    "        weight = weight - lr * grad\n",
    "        #for the new weight we predict the position of the point\n",
    "        predict_label = predict(np.matmul(train_X,weight))\n",
    "        \n",
    "        #update the variable of the while loop\n",
    "        m_y = ((predict_label.flatten()*train_y.flatten())==-1)  \n",
    "        print(\"{} miss classify points: \".format(np.sum(m_y)))\n",
    "        train = train_y[m_y]\n",
    "       \n",
    "\n",
    "    return weight"
   ]
  },
  {
   "cell_type": "code",
   "execution_count": 226,
   "metadata": {},
   "outputs": [],
   "source": [
    "# we test our model using the data generating up"
   ]
  },
  {
   "cell_type": "code",
   "execution_count": 227,
   "metadata": {},
   "outputs": [
    {
     "name": "stdout",
     "output_type": "stream",
     "text": [
      "100 miss classify points: \n",
      "92 miss classify points: \n",
      "30 miss classify points: \n",
      "11 miss classify points: \n",
      "7 miss classify points: \n",
      "4 miss classify points: \n",
      "3 miss classify points: \n",
      "3 miss classify points: \n",
      "3 miss classify points: \n",
      "3 miss classify points: \n",
      "3 miss classify points: \n",
      "3 miss classify points: \n",
      "3 miss classify points: \n",
      "3 miss classify points: \n",
      "2 miss classify points: \n",
      "2 miss classify points: \n",
      "2 miss classify points: \n",
      "1 miss classify points: \n",
      "0 miss classify points: \n"
     ]
    }
   ],
   "source": [
    "final_coefficient=fit_perceptron(dataset[[\"x\",\"y\"]].values,dataset[\"c\"].values)"
   ]
  },
  {
   "cell_type": "code",
   "execution_count": 228,
   "metadata": {},
   "outputs": [
    {
     "data": {
      "text/plain": [
       "array([[-0.175     ],\n",
       "       [ 0.48402602],\n",
       "       [ 0.0250917 ]])"
      ]
     },
     "execution_count": 228,
     "metadata": {},
     "output_type": "execute_result"
    }
   ],
   "source": [
    "#This is the vector of the coefficient of the best line we obtain\n",
    "final_coefficient"
   ]
  },
  {
   "cell_type": "code",
   "execution_count": 229,
   "metadata": {},
   "outputs": [
    {
     "data": {
      "text/html": [
       "<div>\n",
       "<style scoped>\n",
       "    .dataframe tbody tr th:only-of-type {\n",
       "        vertical-align: middle;\n",
       "    }\n",
       "\n",
       "    .dataframe tbody tr th {\n",
       "        vertical-align: top;\n",
       "    }\n",
       "\n",
       "    .dataframe thead th {\n",
       "        text-align: right;\n",
       "    }\n",
       "</style>\n",
       "<table border=\"1\" class=\"dataframe\">\n",
       "  <thead>\n",
       "    <tr style=\"text-align: right;\">\n",
       "      <th></th>\n",
       "      <th>x</th>\n",
       "      <th>y</th>\n",
       "      <th>c</th>\n",
       "      <th>predict_c</th>\n",
       "    </tr>\n",
       "  </thead>\n",
       "  <tbody>\n",
       "    <tr>\n",
       "      <th>0</th>\n",
       "      <td>-0.334207</td>\n",
       "      <td>2.058738</td>\n",
       "      <td>-1.0</td>\n",
       "      <td>-1</td>\n",
       "    </tr>\n",
       "    <tr>\n",
       "      <th>1</th>\n",
       "      <td>3.264395</td>\n",
       "      <td>5.636814</td>\n",
       "      <td>1.0</td>\n",
       "      <td>1</td>\n",
       "    </tr>\n",
       "    <tr>\n",
       "      <th>2</th>\n",
       "      <td>-0.669884</td>\n",
       "      <td>1.856185</td>\n",
       "      <td>-1.0</td>\n",
       "      <td>-1</td>\n",
       "    </tr>\n",
       "    <tr>\n",
       "      <th>3</th>\n",
       "      <td>1.995284</td>\n",
       "      <td>4.484924</td>\n",
       "      <td>1.0</td>\n",
       "      <td>1</td>\n",
       "    </tr>\n",
       "    <tr>\n",
       "      <th>4</th>\n",
       "      <td>3.588041</td>\n",
       "      <td>4.739172</td>\n",
       "      <td>1.0</td>\n",
       "      <td>1</td>\n",
       "    </tr>\n",
       "  </tbody>\n",
       "</table>\n",
       "</div>"
      ],
      "text/plain": [
       "          x         y    c  predict_c\n",
       "0 -0.334207  2.058738 -1.0         -1\n",
       "1  3.264395  5.636814  1.0          1\n",
       "2 -0.669884  1.856185 -1.0         -1\n",
       "3  1.995284  4.484924  1.0          1\n",
       "4  3.588041  4.739172  1.0          1"
      ]
     },
     "execution_count": 229,
     "metadata": {},
     "output_type": "execute_result"
    }
   ],
   "source": [
    "#now we visualize our prediction on the data and also the plot\n",
    "\n",
    "data = dataset[[\"x\",\"y\"]].values\n",
    "data = np.hstack((np.ones((data.shape[0],1)),data))\n",
    "\n",
    "c_pred = sign(np.matmul(data,final_coefficient))\n",
    "dataset[\"predict_c\"] = c_pred\n",
    "dataset[\"predict_c\"] = dataset[\"predict_c\"].apply(lambda x:int(x))\n",
    "x = np.linspace(-.5,1,100)\n",
    "y = -1*(final_coefficient[0]/final_coefficient[2] + final_coefficient[1]/final_coefficient[2] * x)\n",
    "dataset.head()"
   ]
  },
  {
   "cell_type": "code",
   "execution_count": 230,
   "metadata": {},
   "outputs": [
    {
     "data": {
      "text/plain": [
       "<matplotlib.axes._subplots.AxesSubplot at 0x7f902ed9ff28>"
      ]
     },
     "execution_count": 230,
     "metadata": {},
     "output_type": "execute_result"
    },
    {
     "data": {
      "image/png": "[encoded data removed]",
      "text/plain": [
       "<Figure size 720x360 with 1 Axes>"
      ]
     },
     "metadata": {
      "needs_background": "light"
     },
     "output_type": "display_data"
    }
   ],
   "source": [
    "plt.figure(figsize=(10,5))\n",
    "sns.scatterplot(x=\"x\",y=\"y\",hue=\"predict_c\",data=dataset)\n",
    "sns.lineplot(x=x,y=y)"
   ]
  },
  {
   "cell_type": "code",
   "execution_count": null,
   "metadata": {},
   "outputs": [],
   "source": []
  }
 ],
 "metadata": {
  "kernelspec": {
   "display_name": "Python 3",
   "language": "python",
   "name": "python3"
  },
  "language_info": {
   "codemirror_mode": {
    "name": "ipython",
    "version": 3
   },
   "file_extension": ".py",
   "mimetype": "text/x-python",
   "name": "python",
   "nbconvert_exporter": "python",
   "pygments_lexer": "ipython3",
   "version": "3.7.3"
  }
 },
 "nbformat": 4,
 "nbformat_minor": 2
}
