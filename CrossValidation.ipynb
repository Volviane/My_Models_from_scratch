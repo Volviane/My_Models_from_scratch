{
 "cells": [
  {
   "cell_type": "code",
   "execution_count": null,
   "metadata": {},
   "outputs": [],
   "source": [
    "import numpy as np\n",
    "import pandas as pd"
   ]
  },
  {
   "cell_type": "markdown",
   "metadata": {},
   "source": [
    "# K Fold Cross Validation"
   ]
  },
  {
   "cell_type": "code",
   "execution_count": 1,
   "metadata": {},
   "outputs": [],
   "source": [
    "class CrossValidation:\n",
    "    def __init__(self,k=10, max_iteration=10):\n",
    "        self.k=k\n",
    "        self.max_iteration=max_iteration\n",
    "    \n",
    "    \n",
    "    def split_train_test(self,data,step):\n",
    "        \n",
    "        '''\n",
    "            This method split and prepare the trainning and the validation set.\n",
    "            \n",
    "            It takes the data that was shuffled and split using the k\n",
    "        '''\n",
    "        #print('data in split',data)\n",
    "        #print('setp',step)\n",
    "        data = data[:]\n",
    "        \n",
    "        data_test = data[step]\n",
    "        X_test = data_test[0]\n",
    "        y_test =data_test[1]\n",
    "        \n",
    "        X_train = []\n",
    "        y_train =[]\n",
    "        data_train=data.pop(step)\n",
    "        \n",
    "        for tup in data_train:\n",
    "            X_train.append(tup[0])\n",
    "            y_train.append(tup[1])\n",
    "        return X_train, y_train, X_test, y_test\n",
    "            \n",
    "    def cross_validation_split(self,X,y):\n",
    "        \n",
    "        '''\n",
    "            This method randomly split the data into k subset of size size_of_initial_data/k\n",
    "        '''\n",
    "        \n",
    "        #size of each subset\n",
    "        permut_index=np.random.permutation(len(X))\n",
    "        X = X[permut_index]\n",
    "        y = y[permut_index]\n",
    "        size_subset=int(len(X)/self.k)\n",
    "        split_data=[]\n",
    "        \n",
    "        for i in range(self.k):\n",
    "            X_s = X[i*size_subset:(i+1)*size_subset]\n",
    "            y_s = y[i*size_subset: (i+1)*size_subset]\n",
    "            split_data.append((X_s,y_s))\n",
    "        return split_data \n",
    "            \n",
    "    \n",
    "    def cross_validation(self, learning_rate, X, y):\n",
    "        \n",
    "        '''\n",
    "            This method takes the list of model and the data, return the best model with his RMSE \n",
    "        '''\n",
    "        \n",
    "        #randomly split the data\n",
    "        data_split = self.cross_validation_split(X,y)\n",
    "        \n",
    "        generalization_error=[]\n",
    "        \n",
    "        for alpha in learning_rate:\n",
    "            errors=[]\n",
    "            #get the model with learning rate alpha\n",
    "            linearReg = LinearRegression(lr=alpha, max_iter=self.max_iteration)\n",
    "            for i in range(self.k):\n",
    "                #split the big splitting data into train and validation set\n",
    "                #print('iteration',i)\n",
    "                #print('my data is of lenght',len(data_split))\n",
    "                X_train,y_train,X_test,y_test = self.split_train_test(data_split, i)\n",
    "                #train the model\n",
    "                linearReg.fit_SGD(np.array(X_train),np.array(y_train))\n",
    "                er=linearReg.error_prediction(X_test,y_test)\n",
    "                errors.append(er)\n",
    "            mean_errors=np.mean(errors)\n",
    "            generalization_error.append(mean_errors)\n",
    "            model=learning_rate[np.argmin(generalization_error)]\n",
    "        return {'Best_hyperparameter': model ,'RMSE': np.min(generalization_error) } "
   ]
  },
  {
   "cell_type": "code",
   "execution_count": null,
   "metadata": {},
   "outputs": [],
   "source": []
  }
 ],
 "metadata": {
  "kernelspec": {
   "display_name": "Python 3",
   "language": "python",
   "name": "python3"
  },
  "language_info": {
   "codemirror_mode": {
    "name": "ipython",
    "version": 3
   },
   "file_extension": ".py",
   "mimetype": "text/x-python",
   "name": "python",
   "nbconvert_exporter": "python",
   "pygments_lexer": "ipython3",
   "version": "3.7.3"
  }
 },
 "nbformat": 4,
 "nbformat_minor": 2
}
