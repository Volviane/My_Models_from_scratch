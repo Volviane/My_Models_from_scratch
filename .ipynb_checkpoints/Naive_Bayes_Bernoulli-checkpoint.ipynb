{
 "cells": [
  {
   "cell_type": "code",
   "execution_count": 1,
   "metadata": {},
   "outputs": [],
   "source": [
    "import numpy as np\n",
    "import pandas as pd\n",
    "from sklearn.model_selection import train_test_split"
   ]
  },
  {
   "cell_type": "code",
   "execution_count": 2,
   "metadata": {},
   "outputs": [],
   "source": [
    "np .random.seed(0)\n",
    "\n",
    "data = np.random.rand(200, 5)\n",
    "data = np.round(data, decimals=0)\n",
    "X_train = data[:150, :-1]\n",
    "y_train = data[:150, -1]\n",
    "\n",
    "X_test = data[150:, :-1]\n",
    "y_test = data[150:, -1]"
   ]
  },
  {
   "cell_type": "code",
   "execution_count": 12,
   "metadata": {},
   "outputs": [
    {
     "data": {
      "text/plain": [
       "array([0., 0., 0., 1., 0., 0., 0., 1., 1., 0., 0., 0., 0., 0., 1., 0., 1.,\n",
       "       1., 0., 0., 0., 1., 1., 1., 0., 0., 1., 0., 1., 1., 0., 0., 1., 0.,\n",
       "       1., 0., 1., 0., 1., 0., 0., 1., 0., 1., 0., 1., 0., 1., 1., 0., 1.,\n",
       "       0., 1., 0., 0., 1., 0., 1., 1., 1., 0., 0., 1., 1., 0., 0., 1., 0.,\n",
       "       1., 1., 1., 1., 1., 1., 0., 1., 1., 0., 0., 0., 1., 0., 0., 1., 1.,\n",
       "       0., 1., 0., 0., 1., 1., 1., 0., 0., 1., 0., 0., 1., 1., 1., 0., 0.,\n",
       "       1., 1., 0., 0., 0., 1., 1., 0., 1., 1., 1., 1., 1., 1., 1., 1., 0.,\n",
       "       1., 1., 0., 0., 1., 1., 0., 1., 1., 0., 0., 1., 1., 0., 1., 1., 0.,\n",
       "       0., 0., 1., 1., 0., 1., 0., 1., 0., 0., 0., 0., 1., 1.])"
      ]
     },
     "execution_count": 12,
     "metadata": {},
     "output_type": "execute_result"
    }
   ],
   "source": [
    "y_train"
   ]
  },
  {
   "cell_type": "code",
   "execution_count": 3,
   "metadata": {},
   "outputs": [],
   "source": [
    "#iris = pd.read_csv(\"Data/irisData.csv\")"
   ]
  },
  {
   "cell_type": "code",
   "execution_count": 4,
   "metadata": {},
   "outputs": [],
   "source": [
    "#X = iris.drop('0', axis = 1).values\n",
    "#y = iris['0']"
   ]
  },
  {
   "cell_type": "code",
   "execution_count": 5,
   "metadata": {},
   "outputs": [],
   "source": [
    "# X=np.array([[0, 1, 1],[1, 1, 0],[0, 1, 0],[0, 0, 0],[0, 1, 1],[1, 1, 0],[1, 0, 1],[0, 0, 1],\n",
    "#        [0, 0, 1], [0, 0, 1],[1, 1, 0],[0, 1, 1],[1, 1, 1],[1, 1, 0],[0, 0, 1],[0, 0, 1],[1, 1, 1],\n",
    "#        [1, 1, 0], [1, 1, 0], [1, 0, 0],[1, 0, 1], [0, 1, 1], [0, 0, 0], [0, 1, 0], [0, 0, 0],\n",
    "#        [1, 0, 0],[0, 0, 0],[0, 0, 0], [0, 1, 0],  [1, 0, 0],[1, 0, 0], [0, 0, 0], [0, 0, 1],\n",
    "#        [1, 1, 1],[0, 1, 1],[0, 0, 1], [0, 1, 1],[1, 1, 1], [1, 0, 1], [0, 1, 0], [1, 0, 0],   [0, 1, 0],\n",
    "#        [0, 0, 1],       [1, 1, 1],[1, 0, 0], [1, 0, 1], [1, 1, 1], [1, 0, 0],[1, 0, 0], [1, 1, 1],\n",
    "#        [0, 0, 1],      [0, 1, 1],        [1, 0, 1],       [0, 0, 1],       [1, 0, 0],       [1, 0, 0],       [1, 1, 1],\n",
    "#        [1, 0, 0],       [0, 0, 1],       [0, 0, 1],       [1, 0, 1],       [1, 1, 1],       [0, 1, 0],       [0, 0, 1],       [0, 1, 0],\n",
    "#        [1, 0, 1],       [1, 0, 0],       [1, 0, 1],       [1, 1, 0],       [0, 1, 0],       [1, 1, 1],       [0, 0, 0],       [1, 0, 1],       [0, 0, 1],       [0, 0, 0],\n",
    "#        [0, 0, 0],       [1, 1, 0],       [0, 1, 0],       [0, 1, 1],\n",
    "#        [1, 0, 1],       [1, 1, 1],       [1, 0, 1],       [0, 0, 1],       [1, 1, 0],       [0, 0, 1],       [0, 0, 1],       [1, 1, 0],       [0, 1, 0],       [1, 1, 1],       [1, 0, 1],\n",
    "#        [1, 1, 0],       [0, 1, 1],       [1, 0, 0],       [1, 1, 0],       [1, 0, 1],       [0, 1, 0],       [1, 1, 1],       [0, 0, 0],\n",
    "#        [1, 1, 1],       [1, 1, 0]])\n",
    "# y=np.array([1, 0, 0, 0, 1, 1, 1, 1, 0, 0, 1, 1, 1, 1, 1, 0, 0, 1, 1, 0, 1, 1,\n",
    "#        0, 1, 0, 1, 1, 0, 1, 0, 0, 0, 1, 0, 1, 0, 0, 1, 1, 0, 0, 1, 1, 1,\n",
    "#        1, 0, 1, 1, 1, 1, 1, 1, 0, 0, 0, 1, 1, 0, 0, 1, 1, 1, 0, 1, 0, 1,\n",
    "#        0, 1, 0, 0, 1, 0, 1, 0, 0, 0, 1, 0, 0, 1, 0, 1, 1, 0, 1, 1, 1, 0,\n",
    "#        0, 0, 0, 1, 1, 1, 1, 1, 1, 1, 0, 0])\n",
    "\n",
    "\n"
   ]
  },
  {
   "cell_type": "code",
   "execution_count": 6,
   "metadata": {},
   "outputs": [],
   "source": [
    "# # # Create three binary features\n",
    "# # np.random.seed()\n",
    "# X = np.random.randint(2, size=(100, 3))\n",
    "# # #print(X)\n",
    "\n",
    "# # # Create a binary target vector\n",
    "# y = np.random.randint(2, size=(100, 1)).ravel()\n",
    "# # #print(X.shape)\n",
    "# X_train=X[:80]\n",
    "# y_train=y[:80]\n",
    "# X_test=X[80:]\n",
    "# y_true=y[80:]\n",
    "# #print(X_train.shape,y_train.shape,X_test.shape,y_true.shape)"
   ]
  },
  {
   "cell_type": "code",
   "execution_count": null,
   "metadata": {},
   "outputs": [],
   "source": []
  },
  {
   "cell_type": "code",
   "execution_count": 7,
   "metadata": {},
   "outputs": [],
   "source": [
    "X_train = np.asarray(((1,0,0,1),\n",
    "                       (1,1,0,0),\n",
    "                       (1,0,0,1),\n",
    "                       (0,1,0,1),\n",
    "                       (0,0,0,0),\n",
    "                       (0,1,0,1),\n",
    "                       (0,1,0,0),\n",
    "                       (0,1,0,1)));\n",
    "\n",
    "y_train = np.asarray((0,1,1,1,0,1,0,1))"
   ]
  },
  {
   "cell_type": "code",
   "execution_count": null,
   "metadata": {},
   "outputs": [],
   "source": []
  },
  {
   "cell_type": "code",
   "execution_count": 13,
   "metadata": {},
   "outputs": [],
   "source": [
    "class BernoulliNaiveBayes:\n",
    "    \n",
    "    def __init__(self):\n",
    "        pass\n",
    "        \n",
    "        \n",
    "    def phiy(self,y): \n",
    "        return np.sum(y==1)/len(y)\n",
    "    \n",
    "    def phix1y0(self,X,y):\n",
    "        phi_list=[]\n",
    "        for i in range(X.shape[1]):\n",
    "            X_i=X[:,i]\n",
    "            select_y=X_i[y==0]\n",
    "            phi_list.append((np.sum(select_y==1)+1)/(np.sum(y==0)+X.shape[1]))\n",
    "#         select_X = np.sum(select_y,axis=1)\n",
    "#         nb_features=X.shape[1]\n",
    "#         Summation=np.sum(select_X==nb_features)\n",
    "        \n",
    "        return phi_list\n",
    "    \n",
    "    def phix0y0(self,X,y):\n",
    "        \n",
    "        phi_list=[]\n",
    "        for i in range(X.shape[1]):\n",
    "            X_i=X[:,i]\n",
    "            select_y=X_i[y==0]\n",
    "            phi_list.append((np.sum(select_y==0)+1)/(np.sum(y==0)+X.shape[1]))\n",
    "        \n",
    "#         select_y=X[y==0]\n",
    "#         select_X = np.sum(select_y,axis=1)\n",
    "#         Summation=np.sum(select_X==0)\n",
    "         \n",
    "        return phi_list\n",
    "    \n",
    "    def phix1y1(self,X,y):\n",
    "        \n",
    "        phi_list=[]\n",
    "        for i in range(X.shape[1]):\n",
    "            X_i=X[:,i]\n",
    "            select_y=X_i[y==1]\n",
    "            phi_list.append((np.sum(select_y==1)+1)/(np.sum(y==1)+X.shape[1]))\n",
    "        \n",
    "#         select_y=X[y==1]\n",
    "#         select_X = np.sum(select_y,axis=1)\n",
    "#         nb_features=X.shape[1]\n",
    "#         Summation=np.sum(select_X==nb_features)\n",
    "       \n",
    "        return phi_list \n",
    "\n",
    "    \n",
    "    def phix0y1(self,X,y):\n",
    "        \n",
    "        phi_list=[]\n",
    "        for i in range(X.shape[1]):\n",
    "            X_i=X[:,i]\n",
    "            select_y=X_i[y==1]\n",
    "            phi_list.append((np.sum(select_y==0)+1)/(np.sum(y==1)+X.shape[1]))\n",
    "        \n",
    "#         select_y=X[y==1]\n",
    "#         select_X = np.sum(select_y,axis=1)\n",
    "#         Summation=np.sum(select_X==0)\n",
    "        \n",
    "        \n",
    "        return phi_list\n",
    "\n",
    "    \n",
    "    def probabxy1(self,X):\n",
    "        probxy1=[]\n",
    "        arr1=np.zeros_like(X)\n",
    "        for i in range(X.shape[0]):\n",
    "            X_i=X[i,:]\n",
    "            prob=1\n",
    "            for j in range(len(X_i)):\n",
    "                \n",
    "                if X_i[j]==1:\n",
    "                    prob *=  self.fix1y1[j]\n",
    "                    \n",
    "                else:\n",
    "                    prob *= self.fix0y1[j]\n",
    "                arr1[i,j]=prob\n",
    "            probxy1.append(prob)\n",
    "        #print('probability of y=1',arr1[0:5])\n",
    "            \n",
    "            #self.fix0y1\n",
    "            #prob=(self.fix1y1**X_i)* ((1-self.fix1y1)**(1-X_i))\n",
    "            #(self.fix1y1**X)* ((1-self.fix1y1)**(1-X))\n",
    "        return  probxy1\n",
    "    \n",
    "#     def probabx0y1(self,X):\n",
    "#         self.probx0y1=(self.fix0y1**X)* ((1-self.fix0y1)**(1-X))\n",
    "#         return self.probx0y1\n",
    "    \n",
    "    def probabxy0(self,X):\n",
    "        \n",
    "        probxy0=[]\n",
    "        arr0=np.zeros_like(X)\n",
    "        \n",
    "        for i in range(X.shape[0]):\n",
    "            X_i=X[i,:]\n",
    "            prob=1\n",
    "            for j in range(len(X_i)):\n",
    "                if X_i[j]==1:\n",
    "                    prob *= self.fix1y0[j]\n",
    "                    \n",
    "                    #print('X_i[j]==1',i,j,prob)\n",
    "                else:\n",
    "                    prob *= self.fix0y0[j]\n",
    "                    #print('else',i,j,prob\n",
    "                arr0[i,j]=prob\n",
    "            probxy0.append(prob)\n",
    "        #print('probability of y=0',arr0[0:5])\n",
    "#         self.probx1y0=(self.fix1y0**X)* ((1 - self.fix1y0)**(1-X))\n",
    "#         self.probx1y0\n",
    "        return probxy0\n",
    "    \n",
    "#     def probabx0y0(self,X):\n",
    "#         self.probx0y0 = (self.fix0y0**X)* ((1-self.fix0y0)**(1-X))\n",
    "#         return self.probx0y0\n",
    "    \n",
    "    def fit_train(self, X,y):\n",
    "        self.fiy = self.phiy(y)\n",
    "        print('self.fiy',self.fiy)\n",
    "        self.fix1y0  = self.phix1y0(X,y)\n",
    "        print('self.fix1y0',self.fix1y0)\n",
    "        self.fix0y0 = self.phix0y0(X,y)\n",
    "        print('self.fix0y0 ',self.fix0y0)\n",
    "        self.fix1y1  = self.phix1y1(X,y)\n",
    "        print('self.fix1y1',self.fix1y1)\n",
    "        self.fix0y1  = self.phix0y1(X,y)\n",
    "        print('self.fix0y1',self.fix0y1)\n",
    "        \n",
    "    def predict(self,X) :\n",
    "        proby1 = self.fiy\n",
    "        proby0 = 1 - self.fiy\n",
    "        \n",
    "        probxy0=np.array(self.probabxy0(X)).reshape(-1,1)\n",
    "        probxy1=np.array(self.probabxy1(X)).reshape(-1,1)\n",
    "        print('probxy0',probxy0[0:5])\n",
    "        #print('probxy1',probxy1[0:5])\n",
    "        proby0x=probxy0*proby0\n",
    "        proby1x=probxy1*proby1\n",
    "        \n",
    "        #print('proby0x',proby0x[0:5])\n",
    "        #print('proby1x',proby1x[0:5])\n",
    "        prediction_prob = np.concatenate((proby0x, proby1x),axis=1)\n",
    "        #print(prediction_prob)\n",
    "        #return prediction_prob\n",
    "        return np.argmax(prediction_prob,axis=1)\n"
   ]
  },
  {
   "cell_type": "code",
   "execution_count": 14,
   "metadata": {},
   "outputs": [],
   "source": [
    "BNB = BernoulliNaiveBayes()"
   ]
  },
  {
   "cell_type": "code",
   "execution_count": 15,
   "metadata": {},
   "outputs": [],
   "source": [
    "# print(BNB.phiy(y_train))\n",
    "# print(BNB.phiy1x0(X_train,y_train))\n",
    "# print(BNB.phiy0x0(X_train,y_train))\n",
    "# print(BNB.probaby1x1(X_train))\n",
    "# print(BNB.probaby1x0(X_train))\n",
    "# print(BNB.probaby0x1(X_train))\n",
    "# print(BNB.probaby0x0(X_train))"
   ]
  },
  {
   "cell_type": "code",
   "execution_count": 16,
   "metadata": {},
   "outputs": [
    {
     "name": "stdout",
     "output_type": "stream",
     "text": [
      "self.fiy 0.5133333333333333\n",
      "self.fix1y0 [0.4675324675324675, 0.5194805194805194, 0.4675324675324675, 0.5454545454545454]\n",
      "self.fix0y0  [0.5064935064935064, 0.45454545454545453, 0.5064935064935064, 0.42857142857142855]\n",
      "self.fix1y1 [0.345679012345679, 0.43209876543209874, 0.4567901234567901, 0.5432098765432098]\n",
      "self.fix0y1 [0.6296296296296297, 0.5432098765432098, 0.5185185185185185, 0.43209876543209874]\n"
     ]
    }
   ],
   "source": [
    "BNB.fit_train(X_train,y_train)"
   ]
  },
  {
   "cell_type": "code",
   "execution_count": 17,
   "metadata": {},
   "outputs": [
    {
     "name": "stdout",
     "output_type": "stream",
     "text": [
      "probxy0 [[0.0670986 ]\n",
      " [0.04613029]\n",
      " [0.04613029]\n",
      " [0.0670986 ]\n",
      " [0.04613029]]\n"
     ]
    }
   ],
   "source": [
    "predictions=BNB.predict(X_test)"
   ]
  },
  {
   "cell_type": "code",
   "execution_count": 18,
   "metadata": {},
   "outputs": [],
   "source": [
    "# arr=[]\n",
    "# for i in range(len(p1)):\n",
    "#     arr.append([p0[i],p1[i]])\n",
    "# predictions=np.argmax(arr,axis=1) \n",
    "# print(predictions)"
   ]
  },
  {
   "cell_type": "code",
   "execution_count": 19,
   "metadata": {},
   "outputs": [
    {
     "data": {
      "text/plain": [
       "48.0"
      ]
     },
     "execution_count": 19,
     "metadata": {},
     "output_type": "execute_result"
    }
   ],
   "source": [
    "np.sum(predictions == y_test) / len(y_test)*100"
   ]
  },
  {
   "cell_type": "code",
   "execution_count": 36,
   "metadata": {},
   "outputs": [
    {
     "data": {
      "text/plain": [
       "(50,)"
      ]
     },
     "execution_count": 36,
     "metadata": {},
     "output_type": "execute_result"
    }
   ],
   "source": [
    "y_test.shape"
   ]
  },
  {
   "cell_type": "code",
   "execution_count": 37,
   "metadata": {},
   "outputs": [
    {
     "data": {
      "text/plain": [
       "array([1, 0, 0, 0, 0, 1, 1, 1, 0, 0, 1, 0, 1, 1, 1, 0, 0, 1, 1, 0, 0, 0,\n",
       "       0, 0, 0, 1, 0, 1, 1, 1, 0, 0, 0, 0, 0, 0, 0, 0, 1, 1, 1, 1, 1, 1,\n",
       "       0, 1, 0, 1, 1, 1])"
      ]
     },
     "execution_count": 37,
     "metadata": {},
     "output_type": "execute_result"
    }
   ],
   "source": [
    "predictions"
   ]
  },
  {
   "cell_type": "code",
   "execution_count": null,
   "metadata": {},
   "outputs": [],
   "source": []
  },
  {
   "cell_type": "code",
   "execution_count": null,
   "metadata": {},
   "outputs": [],
   "source": []
  },
  {
   "cell_type": "code",
   "execution_count": null,
   "metadata": {},
   "outputs": [],
   "source": []
  }
 ],
 "metadata": {
  "kernelspec": {
   "display_name": "Python 3",
   "language": "python",
   "name": "python3"
  },
  "language_info": {
   "codemirror_mode": {
    "name": "ipython",
    "version": 3
   },
   "file_extension": ".py",
   "mimetype": "text/x-python",
   "name": "python",
   "nbconvert_exporter": "python",
   "pygments_lexer": "ipython3",
   "version": "3.7.3"
  }
 },
 "nbformat": 4,
 "nbformat_minor": 2
}
