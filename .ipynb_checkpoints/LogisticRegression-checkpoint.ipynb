{
 "cells": [
  {
   "cell_type": "code",
   "execution_count": 1,
   "metadata": {},
   "outputs": [],
   "source": [
    "import numpy as np\n",
    "import pandas as pd\n",
    "import matplotlib.pyplot as plt\n",
    "%matplotlib inline\n",
    "import seaborn as sns "
   ]
  },
  {
   "cell_type": "code",
   "execution_count": 2,
   "metadata": {},
   "outputs": [
    {
     "data": {
      "text/html": [
       "<div>\n",
       "<style scoped>\n",
       "    .dataframe tbody tr th:only-of-type {\n",
       "        vertical-align: middle;\n",
       "    }\n",
       "\n",
       "    .dataframe tbody tr th {\n",
       "        vertical-align: top;\n",
       "    }\n",
       "\n",
       "    .dataframe thead th {\n",
       "        text-align: right;\n",
       "    }\n",
       "</style>\n",
       "<table border=\"1\" class=\"dataframe\">\n",
       "  <thead>\n",
       "    <tr style=\"text-align: right;\">\n",
       "      <th></th>\n",
       "      <th>Pregnancies</th>\n",
       "      <th>Glucose</th>\n",
       "      <th>BloodPressure</th>\n",
       "      <th>SkinThickness</th>\n",
       "      <th>Insulin</th>\n",
       "      <th>BMI</th>\n",
       "      <th>DiabetesPedigreeFunction</th>\n",
       "      <th>Age</th>\n",
       "      <th>Outcome</th>\n",
       "    </tr>\n",
       "  </thead>\n",
       "  <tbody>\n",
       "    <tr>\n",
       "      <th>0</th>\n",
       "      <td>6</td>\n",
       "      <td>148</td>\n",
       "      <td>72</td>\n",
       "      <td>35</td>\n",
       "      <td>0</td>\n",
       "      <td>33.6</td>\n",
       "      <td>0.627</td>\n",
       "      <td>50</td>\n",
       "      <td>1</td>\n",
       "    </tr>\n",
       "    <tr>\n",
       "      <th>1</th>\n",
       "      <td>1</td>\n",
       "      <td>85</td>\n",
       "      <td>66</td>\n",
       "      <td>29</td>\n",
       "      <td>0</td>\n",
       "      <td>26.6</td>\n",
       "      <td>0.351</td>\n",
       "      <td>31</td>\n",
       "      <td>0</td>\n",
       "    </tr>\n",
       "    <tr>\n",
       "      <th>2</th>\n",
       "      <td>8</td>\n",
       "      <td>183</td>\n",
       "      <td>64</td>\n",
       "      <td>0</td>\n",
       "      <td>0</td>\n",
       "      <td>23.3</td>\n",
       "      <td>0.672</td>\n",
       "      <td>32</td>\n",
       "      <td>1</td>\n",
       "    </tr>\n",
       "    <tr>\n",
       "      <th>3</th>\n",
       "      <td>1</td>\n",
       "      <td>89</td>\n",
       "      <td>66</td>\n",
       "      <td>23</td>\n",
       "      <td>94</td>\n",
       "      <td>28.1</td>\n",
       "      <td>0.167</td>\n",
       "      <td>21</td>\n",
       "      <td>0</td>\n",
       "    </tr>\n",
       "    <tr>\n",
       "      <th>4</th>\n",
       "      <td>0</td>\n",
       "      <td>137</td>\n",
       "      <td>40</td>\n",
       "      <td>35</td>\n",
       "      <td>168</td>\n",
       "      <td>43.1</td>\n",
       "      <td>2.288</td>\n",
       "      <td>33</td>\n",
       "      <td>1</td>\n",
       "    </tr>\n",
       "  </tbody>\n",
       "</table>\n",
       "</div>"
      ],
      "text/plain": [
       "   Pregnancies  Glucose  BloodPressure  SkinThickness  Insulin   BMI  \\\n",
       "0            6      148             72             35        0  33.6   \n",
       "1            1       85             66             29        0  26.6   \n",
       "2            8      183             64              0        0  23.3   \n",
       "3            1       89             66             23       94  28.1   \n",
       "4            0      137             40             35      168  43.1   \n",
       "\n",
       "   DiabetesPedigreeFunction  Age  Outcome  \n",
       "0                     0.627   50        1  \n",
       "1                     0.351   31        0  \n",
       "2                     0.672   32        1  \n",
       "3                     0.167   21        0  \n",
       "4                     2.288   33        1  "
      ]
     },
     "execution_count": 2,
     "metadata": {},
     "output_type": "execute_result"
    }
   ],
   "source": [
    "data=pd.read_csv('../Data/diabetes.csv')\n",
    "data.head()"
   ]
  },
  {
   "cell_type": "code",
   "execution_count": 3,
   "metadata": {},
   "outputs": [
    {
     "data": {
      "text/plain": [
       "Index(['Pregnancies', 'Glucose', 'BloodPressure', 'SkinThickness', 'Insulin',\n",
       "       'BMI', 'DiabetesPedigreeFunction', 'Age', 'Outcome'],\n",
       "      dtype='object')"
      ]
     },
     "execution_count": 3,
     "metadata": {},
     "output_type": "execute_result"
    }
   ],
   "source": [
    "data.columns"
   ]
  },
  {
   "cell_type": "code",
   "execution_count": 4,
   "metadata": {},
   "outputs": [
    {
     "name": "stdout",
     "output_type": "stream",
     "text": [
      "shape of X is  (768, 8)\n",
      "shape of y (768, 1)\n"
     ]
    }
   ],
   "source": [
    "X=data[['Pregnancies', 'Glucose', 'BloodPressure', 'SkinThickness', 'Insulin',\n",
    "       'BMI', 'DiabetesPedigreeFunction', 'Age']].values\n",
    "print('shape of X is ',X.shape)\n",
    "\n",
    "\n",
    "y=data['Outcome'].values.reshape(-1,1)\n",
    "print('shape of y',y.shape)"
   ]
  },
  {
   "cell_type": "code",
   "execution_count": null,
   "metadata": {},
   "outputs": [],
   "source": []
  },
  {
   "cell_type": "code",
   "execution_count": 5,
   "metadata": {},
   "outputs": [
    {
     "name": "stdout",
     "output_type": "stream",
     "text": [
      "(761, 8)\n",
      "(761, 1)\n",
      "(7, 8)\n"
     ]
    }
   ],
   "source": [
    "X_train =X[0:761]\n",
    "X_test=X[761:]\n",
    "\n",
    "print(X_train.shape)\n",
    "y_train=y[0:761].reshape(-1,1)\n",
    "y_true=y[761:]\n",
    "y=y.reshape(-1,1)\n",
    "print(y_train.shape)\n",
    "print(X_test.shape)"
   ]
  },
  {
   "cell_type": "markdown",
   "metadata": {},
   "source": [
    "mu1 = -1\n",
    "mu2 = 3\n",
    "sig1 = 0.5\n",
    "sig2 = 1\n",
    "N = 100\n",
    "np.random.seed(10)\n",
    "x11=np.random.randn(N,1)*sig1 + mu1\n",
    "x12=np.random.randn(N,1)*sig1 + mu1+3\n",
    "x21=np.random.randn(N,1)*sig2 + mu2\n",
    "x22=np.random.randn(N,1)*sig2 + mu2+3\n",
    "c = np.vstack((np.zeros((N,1)), np.ones((N,1))))\n",
    "x1 = np.hstack((x11,x12))\n",
    "x2 = np.hstack((x21,x22))\n",
    "\n",
    "X = np.hstack( (np.vstack( (x1,x2) ),c) )\n",
    "np.random.shuffle(X)\n",
    "datasetttt = pd.DataFrame(data=X, columns=['x','y','c'])"
   ]
  },
  {
   "cell_type": "markdown",
   "metadata": {},
   "source": [
    "datasetttt.head()"
   ]
  },
  {
   "cell_type": "markdown",
   "metadata": {},
   "source": [
    "X=datasetttt[['x','y']].values\n",
    "y=datasetttt['c'].values\n",
    "\n",
    "X_train=X[:190]\n",
    "\n",
    "X_test=X[190:]\n",
    "y_true=y[190:]\n",
    "y_train=y[:190].reshape(-1,1)\n",
    "\n",
    "print(X_train.shape)\n",
    "print(y_train.shape)\n",
    "print(X_test.shape)\n"
   ]
  },
  {
   "cell_type": "code",
   "execution_count": null,
   "metadata": {},
   "outputs": [],
   "source": []
  },
  {
   "cell_type": "code",
   "execution_count": 87,
   "metadata": {},
   "outputs": [],
   "source": [
    "class LogisticRegresion:\n",
    "    def __init__(self, lr=0.01, max_iteration=10,tolerence=10e-8,epsilon=10e-8,lam=0):\n",
    "        self.lr=lr\n",
    "        self.max_iteration=max_iteration\n",
    "        self.epsilon=epsilon\n",
    "        self.tolerence=tolerence\n",
    "        self.lam=lam\n",
    "        \n",
    "    #hypothesis : logistic sigmoid function\n",
    "    def sigmoid(self,X,theta):\n",
    "        #s=1/(1 + np.exp(-1*(X@theta)))\n",
    "        #print('sigmoid',s)\n",
    "        z = X@theta\n",
    "        #print('z', z.shape)\n",
    "        return 1/(1 + np.exp(-z))\n",
    "    \n",
    "    # compute the grandient  \n",
    "    def get_gradientB(self,X,y,theta):\n",
    "        theta_temp=theta[1:].copy()\n",
    "        #return (1/len(X))*np.sum(( self.sigmoid(X,theta) - y)*X)\n",
    "        h   = self.sigmoid(X,theta)\n",
    "        return np.dot(X.T, (h - y)) + (1/len(X))*self.lam * np.sum(theta_temp)\n",
    "    \n",
    "    def get_gradientS(self,X,y,theta):\n",
    "        theta_temp=theta[1:].copy()\n",
    "        return (1/len(X))*np.sum(( self.sigmoid(X,theta) - y)*X) + (1/len(X))*self.lam * np.sum(theta_temp)\n",
    "        #h   = self.sigmoid(X,theta)\n",
    "        #return np.dot(X.T, (h - y))\n",
    "    \n",
    "    #compute the loss\n",
    "    def loss(self,X,y,theta):\n",
    "        theta_temp=theta[1:].copy()\n",
    "        return   (-y*np.log(self.sigmoid(X,theta)) \n",
    "                  - (1-y)*np.log(1- self.sigmoid(X,theta))).mean() + (1/len(X))*self.lam * np.sum(theta_temp**2)\n",
    "#         return   np.sum(((-1)*y*np.log(self.sigmoid(X,theta))  - (1-y)*np.log(1- self.sigmoid(X,theta))))\n",
    "\n",
    "    def hessian(self,X,theta):\n",
    "        s=self.sigmoid(X,theta)\n",
    "        ds=1-s\n",
    "        diago=np.diag(s.T@ds)\n",
    "        diago=diago.reshape(-1,1)\n",
    "        #print('shape of sig',s.shape)\n",
    "        #print('shape of x',X.shape)\n",
    "        #print('shape of x transpose',X.T.shape)\n",
    "        #print('shape of 1-sig',ds.shape)\n",
    "        #print('shape of diago',diago.shape)\n",
    "        #return ((X@X.T)@s)@ds.T + self.epsilon*np.eye(X.shape[0])\n",
    "        #return (((X.T@s)@ds.T)@X) +   self.epsilon*np.eye(X.T.shape[0]) \n",
    "        return (X.T*diago)@X\n",
    "    \n",
    "    #Batch grediant descent\n",
    "    def fit_BGD(self,X,y):\n",
    "        \n",
    "        #make a copy of our data\n",
    "        X_copy=X.copy()\n",
    "        \n",
    "         #add the intercept column\n",
    "        intercept=np.ones((X_copy.shape[0],1))\n",
    "        X_copy=np.concatenate((intercept,X_copy),axis=1)\n",
    "        #print('shape of the whole x',X_copy.shape)\n",
    "        \n",
    "        #initialise the weight\n",
    "        self.theta=np.zeros((X_copy.shape[1],1))\n",
    "        #print('shape of theta',theta.shape)\n",
    "        \n",
    "        for i in range(self.max_iteration):\n",
    "            #compute the gradient\n",
    "            grad = self.get_gradientB(X_copy, y, self.theta)#.reshape(-1,1)\n",
    "            #update the weight\n",
    "            self.theta = self.theta - self.lr*grad\n",
    "        print('my update',self.theta)\n",
    "            #print the value of the loss\n",
    "            #print('the loss function is ',self.loss(X_copy,y,self.theta))\n",
    "            \n",
    "            \n",
    "    #stochastic gradient descent        \n",
    "    def fit_SGD(self,X,y):\n",
    "        \n",
    "        #make a copy of our data\n",
    "        X_copy=X.copy()\n",
    "        \n",
    "         #add the intercept column\n",
    "        intercept=np.ones((X_copy.shape[0],1))\n",
    "        X_copy=np.concatenate((intercept,X_copy),axis=1)\n",
    "        #print('shape of the whole x',X_copy.shape)\n",
    "        \n",
    "        #initialise the weight\n",
    "        self.theta=np.zeros((X_copy.shape[1],1))\n",
    "        #print('shape of theta',theta.shape)\n",
    "        \n",
    "        for i in range(self.max_iteration):\n",
    "            random_vector=np.random.permutation(X_copy.shape[0])\n",
    "            for j in random_vector:\n",
    "                \n",
    "                #compute the gradient\n",
    "                grad = self.get_gradientS(X_copy[j], y[j], self.theta)#.reshape(-1,1)\n",
    "                #update the weight\n",
    "                self.theta = self.theta - self.lr*grad.reshape(-1,1)\n",
    "                #print('my update',theta)\n",
    "                #print the value of the loss\n",
    "                #print('the loss function is ',self.loss(X_copy[j],y[j],self.theta))\n",
    "                \n",
    "        \n",
    "        \n",
    "    def newton_method(self,X,y):\n",
    "        #make a coy of X\n",
    "        X_copy=X.copy()\n",
    "        #add the intercept\n",
    "        \n",
    "        intercept=np.ones((X_copy.shape[0],1))\n",
    "        X_copy=np.concatenate((intercept,X_copy),axis=1)\n",
    "        \n",
    "        #initialize the weight\n",
    "        self.theta=np.zeros((X_copy.shape[1],1))\n",
    "        diff=1\n",
    "        current_iter=1\n",
    "        while diff >= self.tolerence and current_iter<self.max_iteration:\n",
    "            H=self.hessian(X_copy,self.theta)\n",
    "            inv_H=np.linalg.inv(H)\n",
    "            grad=self.get_gradientS( X_copy,y, self.theta)\n",
    "            grad=grad.reshape(-1,1)\n",
    "            prev_theta=self.theta.copy()\n",
    "            self.theta = self.theta - inv_H*grad\n",
    "            cur_theta=self.theta.copy()\n",
    "            diff=np.linalg.norm(prev_theta - cur_theta)\n",
    "            current_iter+=1\n",
    "            #print('theta is ',self.theta)\n",
    "            #print('the loss is',self.loss(X_copy,y,self.theta))\n",
    "\n",
    "\n",
    "    def predict(self,X):\n",
    "        X_copy=X.copy()\n",
    "        \n",
    "        print('shape of theta',self.theta.shape)\n",
    "        intercept=np.ones((X_copy.shape[0],1))\n",
    "        print('shape of x copy' ,X_copy.shape)\n",
    "        print('shape of intercept' ,intercept.shape)\n",
    "        X_copy=np.concatenate((intercept, X_copy), axis=1)\n",
    "        print('shape',X_copy.shape)\n",
    "        \n",
    "        return self.sigmoid(X_copy,self.theta)\n",
    "    \n",
    "    def error_prediction(self,X,y_true):\n",
    "        X_copy=X.copy()\n",
    "        \n",
    "        #print('shape of theta',self.theta.shape)\n",
    "        intercept=np.ones((X_copy.shape[0],1))\n",
    "        #print('shape of x copy' ,X_copy.shape)\n",
    "        #print('shape of intercept' ,intercept.shape)\n",
    "        X_copy=np.concatenate((intercept, X_copy), axis=1)\n",
    "        #print('shape',X_copy.shape) \n",
    "        y_hat = (self.sigmoid(X_copy,self.theta) > 0.5).astype(int)\n",
    "        return np.sum(y_hat == y_true.reshape(-1,1)) / len(y_true)"
   ]
  },
  {
   "cell_type": "code",
   "execution_count": 88,
   "metadata": {},
   "outputs": [],
   "source": [
    "logistic=LogisticRegresion(lr=0.0000001,max_iteration=5,lam=0)"
   ]
  },
  {
   "cell_type": "code",
   "execution_count": 84,
   "metadata": {},
   "outputs": [],
   "source": [
    "logistic.newton_method(X_train,y_train)"
   ]
  },
  {
   "cell_type": "code",
   "execution_count": 89,
   "metadata": {},
   "outputs": [
    {
     "name": "stdout",
     "output_type": "stream",
     "text": [
      "my update [[-3.53949773e-05]\n",
      " [ 4.19388756e-06]\n",
      " [-1.46012171e-03]\n",
      " [-2.15949082e-03]\n",
      " [-4.73922178e-04]\n",
      " [ 2.70335444e-04]\n",
      " [-7.00523465e-04]\n",
      " [-6.08014837e-06]\n",
      " [-6.50342507e-04]]\n"
     ]
    }
   ],
   "source": [
    "logistic.fit_BGD(X_train,y_train)"
   ]
  },
  {
   "cell_type": "code",
   "execution_count": 90,
   "metadata": {},
   "outputs": [],
   "source": [
    "logistic.fit_SGD(X_train,y_train)"
   ]
  },
  {
   "cell_type": "code",
   "execution_count": 95,
   "metadata": {},
   "outputs": [
    {
     "name": "stdout",
     "output_type": "stream",
     "text": [
      "shape of theta (9, 1)\n",
      "shape of x copy (7, 8)\n",
      "shape of intercept (7, 1)\n",
      "shape (7, 9)\n"
     ]
    }
   ],
   "source": [
    "prediction = logistic.predict(X_test)"
   ]
  },
  {
   "cell_type": "markdown",
   "metadata": {},
   "source": [
    "Compute the accuracy "
   ]
  },
  {
   "cell_type": "code",
   "execution_count": 96,
   "metadata": {},
   "outputs": [],
   "source": [
    "y_hat = (prediction > 0.5).astype(int)"
   ]
  },
  {
   "cell_type": "code",
   "execution_count": 97,
   "metadata": {},
   "outputs": [
    {
     "data": {
      "text/plain": [
       "71.42857142857143"
      ]
     },
     "execution_count": 97,
     "metadata": {},
     "output_type": "execute_result"
    }
   ],
   "source": [
    "np.sum(y_hat == y_true.reshape(-1,1)) / len(y_true)*100"
   ]
  },
  {
   "cell_type": "code",
   "execution_count": 98,
   "metadata": {},
   "outputs": [],
   "source": [
    "#dataset=data.drop(['SkinThickness', 'Insulin', 'BMI', 'DiabetesPedigreeFunction', 'Age'],axis=1)"
   ]
  },
  {
   "cell_type": "code",
   "execution_count": 236,
   "metadata": {},
   "outputs": [
    {
     "data": {
      "text/html": [
       "<div>\n",
       "<style scoped>\n",
       "    .dataframe tbody tr th:only-of-type {\n",
       "        vertical-align: middle;\n",
       "    }\n",
       "\n",
       "    .dataframe tbody tr th {\n",
       "        vertical-align: top;\n",
       "    }\n",
       "\n",
       "    .dataframe thead th {\n",
       "        text-align: right;\n",
       "    }\n",
       "</style>\n",
       "<table border=\"1\" class=\"dataframe\">\n",
       "  <thead>\n",
       "    <tr style=\"text-align: right;\">\n",
       "      <th></th>\n",
       "      <th>Pregnancies</th>\n",
       "      <th>Glucose</th>\n",
       "      <th>BloodPressure</th>\n",
       "      <th>Outcome</th>\n",
       "    </tr>\n",
       "  </thead>\n",
       "  <tbody>\n",
       "    <tr>\n",
       "      <th>0</th>\n",
       "      <td>6</td>\n",
       "      <td>148</td>\n",
       "      <td>72</td>\n",
       "      <td>1</td>\n",
       "    </tr>\n",
       "    <tr>\n",
       "      <th>1</th>\n",
       "      <td>1</td>\n",
       "      <td>85</td>\n",
       "      <td>66</td>\n",
       "      <td>0</td>\n",
       "    </tr>\n",
       "    <tr>\n",
       "      <th>2</th>\n",
       "      <td>8</td>\n",
       "      <td>183</td>\n",
       "      <td>64</td>\n",
       "      <td>1</td>\n",
       "    </tr>\n",
       "    <tr>\n",
       "      <th>3</th>\n",
       "      <td>1</td>\n",
       "      <td>89</td>\n",
       "      <td>66</td>\n",
       "      <td>0</td>\n",
       "    </tr>\n",
       "    <tr>\n",
       "      <th>4</th>\n",
       "      <td>0</td>\n",
       "      <td>137</td>\n",
       "      <td>40</td>\n",
       "      <td>1</td>\n",
       "    </tr>\n",
       "  </tbody>\n",
       "</table>\n",
       "</div>"
      ],
      "text/plain": [
       "   Pregnancies  Glucose  BloodPressure  Outcome\n",
       "0            6      148             72        1\n",
       "1            1       85             66        0\n",
       "2            8      183             64        1\n",
       "3            1       89             66        0\n",
       "4            0      137             40        1"
      ]
     },
     "execution_count": 236,
     "metadata": {},
     "output_type": "execute_result"
    }
   ],
   "source": [
    "#dataset.head()"
   ]
  },
  {
   "cell_type": "code",
   "execution_count": null,
   "metadata": {},
   "outputs": [],
   "source": []
  },
  {
   "cell_type": "markdown",
   "metadata": {},
   "source": [
    "Features selection : Wrapper method"
   ]
  },
  {
   "cell_type": "code",
   "execution_count": null,
   "metadata": {},
   "outputs": [],
   "source": []
  },
  {
   "cell_type": "markdown",
   "metadata": {},
   "source": [
    "Forward selection"
   ]
  },
  {
   "cell_type": "code",
   "execution_count": 145,
   "metadata": {},
   "outputs": [],
   "source": [
    "def validation(data, eval_features, select,target):\n",
    "        '''\n",
    "            This method takes the list of features, return the best feature with his RMSE \n",
    "        '''\n",
    "        data = data[:]\n",
    "        logistic=LogisticRegresion(lr=0.00000001,max_iteration=100)\n",
    "        accuracy=[]\n",
    "        best_feature=[]\n",
    "        split_index=int(len(data)*80/100)\n",
    "        #print(eval_features)\n",
    "        for f in eval_features:\n",
    "            inter = select[:]\n",
    "            inter.append(f[0])\n",
    "            #print(inter)\n",
    "            X=data[inter].values\n",
    "            #print(inter)\n",
    "            y=data[target].values.reshape(-1,1)\n",
    "            #print('shape of y',y.shape)\n",
    "            X_train =X[0:split_index]\n",
    "            X_test=X[split_index:]\n",
    "            #print(X_train.shape)\n",
    "            y_train=y[0:split_index].reshape(-1,1)\n",
    "            y_true=y[split_index:]\n",
    "            y=y.reshape(-1,1)\n",
    "            #print(y_train.shape)\n",
    "            #print(X_test.shape)\n",
    "            logistic.fit_BGD(X_train,y_train)\n",
    "            acc=logistic.error_prediction(X_test,y_true)\n",
    "            accuracy.append(acc)\n",
    "        best_feature = eval_features[np.argmax(accuracy)]\n",
    "        #print(accuracy)    \n",
    "        return best_feature"
   ]
  },
  {
   "cell_type": "code",
   "execution_count": 146,
   "metadata": {},
   "outputs": [],
   "source": [
    "def forward(data, target):\n",
    "    remaining = data.columns.tolist()\n",
    "    remaining.remove(target)\n",
    "    #remaining=[remaining]\n",
    "    #print(remaining)\n",
    "    selected = []\n",
    "    l=len(remaining)\n",
    "    k=5\n",
    "    while l>k:\n",
    "        eval_feature = []\n",
    "        for candidate in remaining:\n",
    "            #selected.append()\n",
    "            eval_feature.append([candidate])\n",
    "        #print(selected)\n",
    "        best = validation(data,eval_feature,selected,target)\n",
    "        #print(best)\n",
    "        #print(remaining)\n",
    "        \n",
    "        remaining=list(set(remaining)-set(best))\n",
    "        #print(l)\n",
    "        l-=1\n",
    "        #print(remaining)\n",
    "        selected.append(best[0])\n",
    "    print('The best features', selected)\n",
    "        \n",
    "    "
   ]
  },
  {
   "cell_type": "code",
   "execution_count": 303,
   "metadata": {},
   "outputs": [
    {
     "name": "stdout",
     "output_type": "stream",
     "text": [
      "The best features ['Pregnancies', 'SkinThickness', 'BloodPressure']\n"
     ]
    }
   ],
   "source": [
    "forward(data, 'Outcome')"
   ]
  },
  {
   "cell_type": "markdown",
   "metadata": {},
   "source": [
    "\n",
    "Backward elimination"
   ]
  },
  {
   "cell_type": "code",
   "execution_count": 147,
   "metadata": {},
   "outputs": [],
   "source": [
    "\n",
    "def backward(data,target):\n",
    "        '''\n",
    "            Backward elimination \n",
    "        '''\n",
    "        data = data[:]\n",
    "        remaining = data.columns.tolist()\n",
    "        remaining.remove(target)\n",
    "        logistic=LogisticRegresion(lr=0.00000001,max_iteration=100)\n",
    "        \n",
    "        accuracy=[]\n",
    "        best_feature=[]\n",
    "        split_index=int(len(data)*80/100)\n",
    "        #print(eval_features)\n",
    "        #print(data.shape)\n",
    "        k=4\n",
    "        while len(remaining)>k:\n",
    "            for f in remaining:\n",
    "\n",
    "                X=data[f].values.reshape(-1,1)\n",
    "                #print(inter)\n",
    "                y=data[target].values.reshape(-1,1)\n",
    "                #print('shape of y',y.shape)\n",
    "                X_train =X[0:split_index]\n",
    "                X_test=X[split_index:]\n",
    "                #print(X_train.shape)\n",
    "                y_train=y[0:split_index].reshape(-1,1)\n",
    "                y_true=y[split_index:]\n",
    "                y=y.reshape(-1,1)\n",
    "                #print(y_train.shape)\n",
    "                #print(X_test.shape)\n",
    "                logistic.fit_BGD(X_train,y_train)\n",
    "                acc=logistic.error_prediction(X_test,y_true)\n",
    "                accuracy.append(acc)\n",
    "            excluded_feature = remaining[np.argmin(accuracy)]\n",
    "            remaining.remove(excluded_feature)   \n",
    "        return remaining"
   ]
  },
  {
   "cell_type": "code",
   "execution_count": 148,
   "metadata": {},
   "outputs": [
    {
     "data": {
      "text/plain": [
       "['Insulin', 'BMI', 'DiabetesPedigreeFunction', 'Age']"
      ]
     },
     "execution_count": 148,
     "metadata": {},
     "output_type": "execute_result"
    }
   ],
   "source": [
    "backward(data,'Outcome')"
   ]
  }
 ],
 "metadata": {
  "kernelspec": {
   "display_name": "Python 3",
   "language": "python",
   "name": "python3"
  },
  "language_info": {
   "codemirror_mode": {
    "name": "ipython",
    "version": 3
   },
   "file_extension": ".py",
   "mimetype": "text/x-python",
   "name": "python",
   "nbconvert_exporter": "python",
   "pygments_lexer": "ipython3",
   "version": "3.7.3"
  }
 },
 "nbformat": 4,
 "nbformat_minor": 2
}
