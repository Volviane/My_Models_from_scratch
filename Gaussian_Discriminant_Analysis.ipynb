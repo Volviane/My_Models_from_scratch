{
 "cells": [
  {
   "cell_type": "code",
   "execution_count": 2,
   "metadata": {},
   "outputs": [],
   "source": [
    "import numpy as np\n",
    "import pandas as pd"
   ]
  },
  {
   "cell_type": "code",
   "execution_count": 3,
   "metadata": {},
   "outputs": [],
   "source": [
    "# loading the data"
   ]
  },
  {
   "cell_type": "code",
   "execution_count": 6,
   "metadata": {},
   "outputs": [],
   "source": [
    "iris = pd.read_csv(\"Data/irisData.csv\")"
   ]
  },
  {
   "cell_type": "code",
   "execution_count": 106,
   "metadata": {},
   "outputs": [
    {
     "data": {
      "text/html": [
       "<div>\n",
       "<style scoped>\n",
       "    .dataframe tbody tr th:only-of-type {\n",
       "        vertical-align: middle;\n",
       "    }\n",
       "\n",
       "    .dataframe tbody tr th {\n",
       "        vertical-align: top;\n",
       "    }\n",
       "\n",
       "    .dataframe thead th {\n",
       "        text-align: right;\n",
       "    }\n",
       "</style>\n",
       "<table border=\"1\" class=\"dataframe\">\n",
       "  <thead>\n",
       "    <tr style=\"text-align: right;\">\n",
       "      <th></th>\n",
       "      <th>5.1</th>\n",
       "      <th>3.5</th>\n",
       "      <th>0</th>\n",
       "    </tr>\n",
       "  </thead>\n",
       "  <tbody>\n",
       "    <tr>\n",
       "      <th>0</th>\n",
       "      <td>4.9</td>\n",
       "      <td>3.0</td>\n",
       "      <td>0</td>\n",
       "    </tr>\n",
       "    <tr>\n",
       "      <th>1</th>\n",
       "      <td>4.7</td>\n",
       "      <td>3.2</td>\n",
       "      <td>0</td>\n",
       "    </tr>\n",
       "    <tr>\n",
       "      <th>2</th>\n",
       "      <td>4.6</td>\n",
       "      <td>3.1</td>\n",
       "      <td>0</td>\n",
       "    </tr>\n",
       "    <tr>\n",
       "      <th>3</th>\n",
       "      <td>5.0</td>\n",
       "      <td>3.6</td>\n",
       "      <td>0</td>\n",
       "    </tr>\n",
       "    <tr>\n",
       "      <th>4</th>\n",
       "      <td>5.4</td>\n",
       "      <td>3.9</td>\n",
       "      <td>0</td>\n",
       "    </tr>\n",
       "  </tbody>\n",
       "</table>\n",
       "</div>"
      ],
      "text/plain": [
       "   5.1  3.5  0\n",
       "0  4.9  3.0  0\n",
       "1  4.7  3.2  0\n",
       "2  4.6  3.1  0\n",
       "3  5.0  3.6  0\n",
       "4  5.4  3.9  0"
      ]
     },
     "execution_count": 106,
     "metadata": {},
     "output_type": "execute_result"
    }
   ],
   "source": [
    "iris.head()"
   ]
  },
  {
   "cell_type": "code",
   "execution_count": 9,
   "metadata": {},
   "outputs": [
    {
     "data": {
      "text/plain": [
       "Index(['5.1', '3.5', '0'], dtype='object')"
      ]
     },
     "execution_count": 9,
     "metadata": {},
     "output_type": "execute_result"
    }
   ],
   "source": [
    "iris.columns"
   ]
  },
  {
   "cell_type": "code",
   "execution_count": 131,
   "metadata": {},
   "outputs": [
    {
     "data": {
      "text/plain": [
       "(99, 3)"
      ]
     },
     "execution_count": 131,
     "metadata": {},
     "output_type": "execute_result"
    }
   ],
   "source": [
    "iris.shape"
   ]
  },
  {
   "cell_type": "code",
   "execution_count": 186,
   "metadata": {},
   "outputs": [],
   "source": [
    "class GaussianDiscriminantAnalysis:\n",
    "    def __init__(self,k=[0,1],epsilon=10e-10):\n",
    "        self.k=k\n",
    "        self.epsilon=epsilon\n",
    "        \n",
    "    def phi(self, y):\n",
    "        return (np.sum(y==1))/len(y)\n",
    "    \n",
    "    def mu_0(self,X,y):\n",
    "        return (np.sum(X[y==0],axis=0))/len(y==0)\n",
    "    \n",
    "    def mu_1(self,X,y):\n",
    "        return (np.sum(X[y==1],axis=0))/len(y==1)\n",
    "    \n",
    "    def covariance0(self,X,y,mu0):\n",
    "        return (((X-mu0).T)@(X-mu0))/len(y==0)\n",
    "    \n",
    "    def covariance1(self,X,y,mu1):\n",
    "    \n",
    "        return (((X-mu1).T)@(X-mu1))/len(y==1)\n",
    "    \n",
    "    def prob_y0(self,y):\n",
    "        fi=self.phi(y)\n",
    "        #print(fi)\n",
    "        return 1-fi\n",
    "    \n",
    "    def prob_y1(self,y):\n",
    "        fi=self.phi(y)\n",
    "        return fi\n",
    "        \n",
    "    \n",
    "    def prob_class0(self,X,y):\n",
    "        mu0=self.mu_0(X,y)\n",
    "        cvar0 = self.covariance0(X,y,mu0)\n",
    "        half_len = len(X)/2\n",
    "        det_cvar0 = (np.linalg.det(cvar0 ))**0.5\n",
    "        inv_cvar0 = np.linalg.inv(cvar0 + (self.epsilon*np.eye(len(cvar0))))\n",
    "        #print('shape of determinant',det_cvar0.shape)\n",
    "        #print('shape of inverse',inv_cvar0.shape)\n",
    "        #return (np.exp( -(1/2)*(((X-mu0)@inv_cvar0)@(X-mu0).T)))/(1/((2*np.pi)**half_len)*det_cvar0)\n",
    "        #return  -half_len*np.log(2*np.pi)  - (1/2)*np.log(det_cvar0) - (1/2)*((X-mu0)@inv_cvar0)@(X-mu0).T \n",
    "        return np.exp(-(1/2)*((X-mu0)@inv_cvar0 ))/(1/((2*np.pi)**half_len)*det_cvar0)\n",
    "    \n",
    "    def prob_class1(self,X,y):\n",
    "        mu1=self.mu_1(X,y)\n",
    "        cvar1 = self.covariance0(X,y,mu1)\n",
    "        half_len = len(X)/2\n",
    "        det_cvar1 = (np.linalg.det(cvar1 ))**0.5\n",
    "        inv_cvar1 = np.linalg.inv(cvar1 + (self.epsilon*np.eye(len(cvar1))))\n",
    "        print('x-mu',(X-mu1).shape)\n",
    "        print('shape of inverse',inv_cvar1.shape)\n",
    "        #return (np.exp( -(1/2)*((X-mu1)@inv_cvar1@(X-mu1).T)))/(1/((2*np.pi)**half_len)*det_cvar1)\n",
    "        return np.exp(-(1/2)*((X-mu1)@inv_cvar1 ))/(1/((2*np.pi)**half_len)*det_cvar1)\n",
    "    \n",
    "    def predict(self, X,y):\n",
    "        proby0=self.prob_y0(y)\n",
    "        proby1=self.prob_y1(y)\n",
    "        probclass0=self.prob_class0(X,y)\n",
    "        probclass1=self.prob_class1(X,y)\n",
    "        \n",
    "        #print('probability of x|y=0',probclass0)\n",
    "        #print('probability 0',(probclass0*proby0).shape)\n",
    "        #print('probability1 ',(probclass0*proby0).shape)\n",
    "        prediction_prob = np.concatenate((probclass0*proby0.reshape(-1,1), probclass1*proby1.reshape(-1,1)))\n",
    "        return np.argmax(prediction_prob)"
   ]
  },
  {
   "cell_type": "code",
   "execution_count": 187,
   "metadata": {},
   "outputs": [
    {
     "name": "stdout",
     "output_type": "stream",
     "text": [
      "x-mu (99, 2)\n",
      "shape of inverse (2, 2)\n"
     ]
    },
    {
     "data": {
      "text/plain": [
       "135"
      ]
     },
     "execution_count": 187,
     "metadata": {},
     "output_type": "execute_result"
    }
   ],
   "source": [
    "GDA = GaussianDiscriminantAnalysis()\n",
    "\n",
    "\n",
    "GDA.phi(iris['0'].values)\n",
    "mu0=GDA.mu_0(iris[['5.1', '3.5']].values, iris['0'].values)\n",
    "#mu1=GDA.mu_1(iris[['5.1', '3.5']].values, iris['0'].values)\n",
    "#cov=GDA.covariance0(iris[['5.1', '3.5']].values, iris['0'].values, mu0)\n",
    "#np.linalg.det(cov)\n",
    "#GDA.covariance1(iris[['5.1', '3.5']].values, mu1)\n",
    "#GDA.prob_class0(iris[['5.1', '3.5']].values, iris['0'].values)\n",
    "#GDA.prob_class1(iris[['5.1', '3.5']].values, iris['0'].values)\n",
    "GDA.prob_y1(iris['0'].values)\n",
    "GDA.predict(iris[['5.1', '3.5']].values, iris['0'].values)"
   ]
  },
  {
   "cell_type": "code",
   "execution_count": 177,
   "metadata": {},
   "outputs": [
    {
     "data": {
      "text/plain": [
       "(99,)"
      ]
     },
     "execution_count": 177,
     "metadata": {},
     "output_type": "execute_result"
    }
   ],
   "source": [
    "iris['0'].values.shape"
   ]
  },
  {
   "cell_type": "code",
   "execution_count": null,
   "metadata": {},
   "outputs": [],
   "source": []
  }
 ],
 "metadata": {
  "kernelspec": {
   "display_name": "Python 3",
   "language": "python",
   "name": "python3"
  },
  "language_info": {
   "codemirror_mode": {
    "name": "ipython",
    "version": 3
   },
   "file_extension": ".py",
   "mimetype": "text/x-python",
   "name": "python",
   "nbconvert_exporter": "python",
   "pygments_lexer": "ipython3",
   "version": "3.7.3"
  }
 },
 "nbformat": 4,
 "nbformat_minor": 2
}
